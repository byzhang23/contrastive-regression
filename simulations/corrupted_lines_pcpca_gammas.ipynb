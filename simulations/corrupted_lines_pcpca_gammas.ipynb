{
 "cells": [
  {
   "cell_type": "code",
   "execution_count": 1,
   "metadata": {},
   "outputs": [],
   "source": [
    "import numpy as np\n",
    "import pandas as pd\n",
    "import matplotlib.pyplot as plt\n",
    "import seaborn as sns\n",
    "from os.path import join as pjoin\n",
    "from sklearn.linear_model import LinearRegression\n",
    "from sklearn.decomposition import PCA\n",
    "from sklearn.metrics import r2_score\n",
    "from scipy.stats import linregress\n",
    "from sklearn.model_selection import KFold\n",
    "\n",
    "import matplotlib\n",
    "font = {\"size\": 20}\n",
    "matplotlib.rc(\"font\", **font)\n",
    "matplotlib.rcParams[\"text.usetex\"] = True\n",
    "\n",
    "import sys\n",
    "\n",
    "sys.path.append(\"../../models\")\n",
    "from linear_cr_new import LinearContrastiveRegression\n",
    "from pcpca import PCPCA\n"
   ]
  },
  {
   "cell_type": "code",
   "execution_count": 2,
   "metadata": {},
   "outputs": [],
   "source": [
    "data_dir = \"./data/\"\n",
    "X = np.load(pjoin(data_dir, \"foreground.npy\"))\n",
    "Y = np.load(pjoin(data_dir, \"background.npy\"))\n",
    "R = np.load(pjoin(data_dir, \"foreground_labels.npy\")).reshape(-1, 1)\n",
    "\n",
    "# Should have same number of features\n",
    "assert X.shape[0] == Y.shape[0]\n",
    "\n",
    "X_mean, Y_mean, R_mean = np.mean(X, axis=0), np.mean(Y, axis=0), np.mean(R, axis=0)\n",
    "X = (X - X_mean) / np.std(X, axis=0)\n",
    "Y = (Y - Y_mean) / np.std(Y, axis=0)\n",
    "R = (R - R_mean) / np.std(R, axis=0)\n",
    "\n",
    "n, p = X.shape\n",
    "m, _ = Y.shape\n",
    "d = 2"
   ]
  },
  {
   "cell_type": "code",
   "execution_count": 3,
   "metadata": {},
   "outputs": [
    {
     "name": "stderr",
     "output_type": "stream",
     "text": [
      "2024-07-31 18:49:35.478764: E external/org_tensorflow/tensorflow/compiler/xla/service/slow_operation_alarm.cc:65] Constant folding an instruction is taking > 1s:\n",
      "\n",
      "  dot.14 (displaying the full instruction incurs a runtime overhead. Raise your logging level to 4 or above).\n",
      "\n",
      "This isn't necessarily a bug; constant-folding is inherently a trade-off between compilation time and speed at runtime.  XLA has some guards that attempt to keep constant folding from taking too long, but fundamentally you'll always be able to come up with an input program that takes a long time.\n",
      "\n",
      "If you'd like to file a bug, run with envvar XLA_FLAGS=--xla_dump_to=/tmp/foo and attach the results.\n",
      "2024-07-31 18:49:36.876574: E external/org_tensorflow/tensorflow/compiler/xla/service/slow_operation_alarm.cc:133] The operation took 2.403513s\n",
      "Constant folding an instruction is taking > 1s:\n",
      "\n",
      "  dot.14 (displaying the full instruction incurs a runtime overhead. Raise your logging level to 4 or above).\n",
      "\n",
      "This isn't necessarily a bug; constant-folding is inherently a trade-off between compilation time and speed at runtime.  XLA has some guards that attempt to keep constant folding from taking too long, but fundamentally you'll always be able to come up with an input program that takes a long time.\n",
      "\n",
      "If you'd like to file a bug, run with envvar XLA_FLAGS=--xla_dump_to=/tmp/foo and attach the results.\n",
      "2024-07-31 18:49:38.911441: E external/org_tensorflow/tensorflow/compiler/xla/service/slow_operation_alarm.cc:65] Constant folding an instruction is taking > 2s:\n",
      "\n",
      "  dot.21 (displaying the full instruction incurs a runtime overhead. Raise your logging level to 4 or above).\n",
      "\n",
      "This isn't necessarily a bug; constant-folding is inherently a trade-off between compilation time and speed at runtime.  XLA has some guards that attempt to keep constant folding from taking too long, but fundamentally you'll always be able to come up with an input program that takes a long time.\n",
      "\n",
      "If you'd like to file a bug, run with envvar XLA_FLAGS=--xla_dump_to=/tmp/foo and attach the results.\n",
      "2024-07-31 18:49:39.286908: E external/org_tensorflow/tensorflow/compiler/xla/service/slow_operation_alarm.cc:133] The operation took 2.380507s\n",
      "Constant folding an instruction is taking > 2s:\n",
      "\n",
      "  dot.21 (displaying the full instruction incurs a runtime overhead. Raise your logging level to 4 or above).\n",
      "\n",
      "This isn't necessarily a bug; constant-folding is inherently a trade-off between compilation time and speed at runtime.  XLA has some guards that attempt to keep constant folding from taking too long, but fundamentally you'll always be able to come up with an input program that takes a long time.\n",
      "\n",
      "If you'd like to file a bug, run with envvar XLA_FLAGS=--xla_dump_to=/tmp/foo and attach the results.\n"
     ]
    },
    {
     "name": "stdout",
     "output_type": "stream",
     "text": [
      "Step: 0               Log marginal lik.: -1301992.0\n",
      "Step: 100             Log marginal lik.: -398682.56\n",
      "Step: 200             Log marginal lik.: -396686.19\n",
      "Step: 300             Log marginal lik.: -396001.56\n",
      "Step: 400             Log marginal lik.: -395652.0\n",
      "Step: 500             Log marginal lik.: -395454.66\n",
      "Step: 600             Log marginal lik.: -395336.38\n",
      "Step: 700             Log marginal lik.: -395261.12\n",
      "Step: 0               Log marginal lik.: -1306896.75\n",
      "Step: 100             Log marginal lik.: -387179.0\n",
      "Step: 200             Log marginal lik.: -385571.88\n",
      "Step: 300             Log marginal lik.: -384898.06\n",
      "Step: 400             Log marginal lik.: -384544.75\n",
      "Step: 500             Log marginal lik.: -384343.25\n",
      "Step: 600             Log marginal lik.: -384221.25\n",
      "Step: 700             Log marginal lik.: -384144.12\n",
      "Step: 800             Log marginal lik.: -384093.31\n",
      "Step: 0               Log marginal lik.: -1330786.0\n",
      "Step: 100             Log marginal lik.: -412252.44\n",
      "Step: 200             Log marginal lik.: -410479.25\n",
      "Step: 300             Log marginal lik.: -409771.12\n",
      "Step: 400             Log marginal lik.: -409406.38\n",
      "Step: 500             Log marginal lik.: -409199.31\n",
      "Step: 600             Log marginal lik.: -409074.81\n",
      "Step: 700             Log marginal lik.: -408995.25\n"
     ]
    }
   ],
   "source": [
    "# Now do this prediction experiment on held-out data\n",
    "n_splits = 3\n",
    "r2_scores_contrastivereg = []\n",
    "r2_scores_linreg = []\n",
    "gammas = np.round(np.arange(0.1, 1, 0.1),1)\n",
    "\n",
    "kf = KFold(n_splits=n_splits, shuffle=True)\n",
    "for train_index, test_index in kf.split(X):\n",
    "    \n",
    "    # Train/test split\n",
    "    X_train, Y_train, R_train = X[train_index], Y[train_index], R[train_index]\n",
    "    X_test, Y_test, R_test = X[test_index], Y[test_index], R[test_index]\n",
    "    \n",
    "    # Fit model on training data\n",
    "    model = LinearContrastiveRegression()\n",
    "    model.fit(X_train, Y_train, R_train, d, print_every=100)\n",
    "    \n",
    "    # Make predictions\n",
    "    preds_contrastivereg = model.predict(X_test)\n",
    "    \n",
    "    # Compute R^2\n",
    "    _, _, r2_contrastivereg, _, _ = linregress(R_test.squeeze(), preds_contrastivereg)\n",
    "    r2_scores_contrastivereg.append(r2_contrastivereg)\n",
    "    \n",
    "    for g in gammas:\n",
    "        linreg = LinearRegression()\n",
    "        pcpca = PCPCA(gamma=g, n_components=d)\n",
    "        pcpca.fit(np.transpose(X), np.transpose(Y))\n",
    "        X_reduced, _ = pcpca.fit_transform(np.transpose(X), np.transpose(Y))\n",
    "        X_reduced = np.transpose(X_reduced)\n",
    "        linreg.fit(X_reduced[train_index], R_train)\n",
    "        preds_linreg = linreg.predict(X_reduced[test_index])\n",
    "        _, _, r2_linreg, _, _ = linregress(R_test.squeeze(), preds_linreg.squeeze())\n",
    "        r2_scores_linreg.append(r2_linreg)"
   ]
  },
  {
   "cell_type": "code",
   "execution_count": 14,
   "metadata": {},
   "outputs": [
    {
     "data": {
      "image/png": "[encoded data removed]",
      "text/plain": [
       "<Figure size 1200x500 with 1 Axes>"
      ]
     },
     "metadata": {},
     "output_type": "display_data"
    }
   ],
   "source": [
    "results_df = pd.DataFrame(\n",
    "    {\n",
    "        \"Method\": np.concatenate([[\"CLR\"] * n_splits, [\"PCPCA \\n ($\\gamma^\\prime$: \" + str(value) + \")\" for value in gammas] * n_splits]),\n",
    "        \"R2\": np.concatenate([r2_scores_contrastivereg, r2_scores_linreg])\n",
    "    }\n",
    ")\n",
    "results_df.to_csv('./out/corrupted_lines_pcpca_gammas_R2.csv', index=False)\n",
    "\n",
    "plt.figure(figsize=(12, 5))\n",
    "sns.boxplot(data=results_df, x=\"Method\", y=\"R2\")\n",
    "plt.xlabel(\"\")\n",
    "plt.ylabel(r\"Held-out $R^2$\")\n",
    "plt.ylim([0, 1])\n",
    "\n",
    "plt.tight_layout()\n",
    "plt.savefig(\"./out/corrupted_lines_pcpca_gammas.png\", dpi = 300)\n",
    "plt.show()"
   ]
  },
  {
   "cell_type": "code",
   "execution_count": 12,
   "metadata": {},
   "outputs": [
    {
     "data": {
      "text/plain": [
       "['PCPCA \\n ($\\\\gamma$^prime: 0.1)',\n",
       " 'PCPCA \\n ($\\\\gamma$^prime: 0.2)',\n",
       " 'PCPCA \\n ($\\\\gamma$^prime: 0.3)',\n",
       " 'PCPCA \\n ($\\\\gamma$^prime: 0.4)',\n",
       " 'PCPCA \\n ($\\\\gamma$^prime: 0.5)',\n",
       " 'PCPCA \\n ($\\\\gamma$^prime: 0.6)',\n",
       " 'PCPCA \\n ($\\\\gamma$^prime: 0.7)',\n",
       " 'PCPCA \\n ($\\\\gamma$^prime: 0.8)',\n",
       " 'PCPCA \\n ($\\\\gamma$^prime: 0.9)',\n",
       " 'PCPCA \\n ($\\\\gamma$^prime: 0.1)',\n",
       " 'PCPCA \\n ($\\\\gamma$^prime: 0.2)',\n",
       " 'PCPCA \\n ($\\\\gamma$^prime: 0.3)',\n",
       " 'PCPCA \\n ($\\\\gamma$^prime: 0.4)',\n",
       " 'PCPCA \\n ($\\\\gamma$^prime: 0.5)',\n",
       " 'PCPCA \\n ($\\\\gamma$^prime: 0.6)',\n",
       " 'PCPCA \\n ($\\\\gamma$^prime: 0.7)',\n",
       " 'PCPCA \\n ($\\\\gamma$^prime: 0.8)',\n",
       " 'PCPCA \\n ($\\\\gamma$^prime: 0.9)',\n",
       " 'PCPCA \\n ($\\\\gamma$^prime: 0.1)',\n",
       " 'PCPCA \\n ($\\\\gamma$^prime: 0.2)',\n",
       " 'PCPCA \\n ($\\\\gamma$^prime: 0.3)',\n",
       " 'PCPCA \\n ($\\\\gamma$^prime: 0.4)',\n",
       " 'PCPCA \\n ($\\\\gamma$^prime: 0.5)',\n",
       " 'PCPCA \\n ($\\\\gamma$^prime: 0.6)',\n",
       " 'PCPCA \\n ($\\\\gamma$^prime: 0.7)',\n",
       " 'PCPCA \\n ($\\\\gamma$^prime: 0.8)',\n",
       " 'PCPCA \\n ($\\\\gamma$^prime: 0.9)']"
      ]
     },
     "execution_count": 12,
     "metadata": {},
     "output_type": "execute_result"
    }
   ],
   "source": [
    "[\"PCPCA \\n ($\\gamma$^prime: \" + str(value) + \")\" for value in gammas] * n_splits"
   ]
  }
 ],
 "metadata": {
  "kernelspec": {
   "display_name": "base",
   "language": "python",
   "name": "python3"
  },
  "language_info": {
   "codemirror_mode": {
    "name": "ipython",
    "version": 3
   },
   "file_extension": ".py",
   "mimetype": "text/x-python",
   "name": "python",
   "nbconvert_exporter": "python",
   "pygments_lexer": "ipython3",
   "version": "3.10.8"
  }
 },
 "nbformat": 4,
 "nbformat_minor": 2
}
