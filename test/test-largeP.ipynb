{
 "cells": [
  {
   "cell_type": "code",
   "execution_count": 1,
   "metadata": {},
   "outputs": [],
   "source": [
    "import numpy as onp\n",
    "import jax.numpy as jnp\n",
    "import matplotlib.pyplot as plt\n",
    "from scipy.stats import linregress\n",
    "import time"
   ]
  },
  {
   "cell_type": "code",
   "execution_count": 2,
   "metadata": {},
   "outputs": [
    {
     "name": "stdout",
     "output_type": "stream",
     "text": [
      "==S==\n",
      "[[-0.19726117 -1.69320821  0.21429012 ... -0.18834615  0.03971138\n",
      "   0.02042687]\n",
      " [-0.1188857  -1.17083326  0.34056713 ... -1.13400708  0.6239754\n",
      "   0.10218009]]\n",
      "==W==\n",
      "[[ 1.11438543 -0.03825979 -1.10526274 ...  0.54914862 -0.10092726\n",
      "  -0.40104011]\n",
      " [-0.82152531 -0.03192647 -0.57513047 ... -1.16768352  0.20173557\n",
      "   1.1139276 ]]\n",
      "==beta==\n",
      "[[1.14875486]\n",
      " [0.13212529]]\n",
      "<class 'numpy.ndarray'>\n",
      "(100, 1000)\n",
      "<class 'numpy.ndarray'>\n",
      "(100, 1000)\n",
      "<class 'numpy.ndarray'>\n",
      "[[-0.46522567]\n",
      " [-1.22937115]\n",
      " [-2.42962106]\n",
      " [-0.05117077]\n",
      " [-0.86478652]\n",
      " [ 0.85540682]\n",
      " [-1.56513991]\n",
      " [ 0.74087347]\n",
      " [ 0.04993232]\n",
      " [-0.89022236]\n",
      " [-0.0031256 ]\n",
      " [-0.02365471]\n",
      " [ 0.63186389]\n",
      " [ 2.49552007]\n",
      " [ 1.59134702]\n",
      " [-0.44026862]\n",
      " [ 0.23923577]\n",
      " [ 1.8044463 ]\n",
      " [ 0.47148896]\n",
      " [-1.79623884]\n",
      " [ 0.42945439]\n",
      " [-1.41174432]\n",
      " [ 0.12014113]\n",
      " [-1.2400602 ]\n",
      " [-2.03115511]\n",
      " [-0.85960546]\n",
      " [-1.82166896]\n",
      " [ 1.74937769]\n",
      " [ 0.59948309]\n",
      " [-0.9785282 ]\n",
      " [ 1.0472823 ]\n",
      " [-0.32600627]\n",
      " [ 1.82750922]\n",
      " [-2.30705537]\n",
      " [ 2.20679995]\n",
      " [-1.39545611]\n",
      " [ 1.16628021]\n",
      " [ 0.9154706 ]\n",
      " [-0.6367191 ]\n",
      " [-1.34904228]\n",
      " [-2.37426534]\n",
      " [-0.25524859]\n",
      " [-0.76373532]\n",
      " [-1.70399637]\n",
      " [ 0.45897798]\n",
      " [-0.86120588]\n",
      " [ 2.8597362 ]\n",
      " [ 0.70365079]\n",
      " [-1.74916983]\n",
      " [-0.18761369]\n",
      " [-1.83760918]\n",
      " [ 0.4503336 ]\n",
      " [ 0.06227735]\n",
      " [-3.08427275]\n",
      " [-2.19618759]\n",
      " [ 0.23510068]\n",
      " [ 0.63998619]\n",
      " [-2.49349695]\n",
      " [-0.26190423]\n",
      " [-1.14901041]\n",
      " [ 1.45873653]\n",
      " [-3.09856238]\n",
      " [-2.2083236 ]\n",
      " [ 0.07286047]\n",
      " [ 1.03259298]\n",
      " [ 1.94741287]\n",
      " [-0.42363684]\n",
      " [-2.35099787]\n",
      " [ 0.33486366]\n",
      " [-1.84667148]\n",
      " [ 1.26335563]\n",
      " [ 1.243319  ]\n",
      " [-0.18569812]\n",
      " [-2.35489383]\n",
      " [ 1.39793537]\n",
      " [ 0.75765358]\n",
      " [-0.95380941]\n",
      " [ 0.51895459]\n",
      " [ 2.20224353]\n",
      " [ 2.05036077]\n",
      " [-1.33659182]\n",
      " [ 0.40726034]\n",
      " [-0.92355382]\n",
      " [-0.42579365]\n",
      " [-1.93757646]\n",
      " [-2.51601878]\n",
      " [ 2.01153836]\n",
      " [-1.36248522]\n",
      " [ 0.72251453]\n",
      " [ 0.74729489]\n",
      " [-0.36768645]\n",
      " [-0.63536159]\n",
      " [-1.8756846 ]\n",
      " [ 1.25921893]\n",
      " [-0.51131953]\n",
      " [ 0.94016749]\n",
      " [ 1.88978861]\n",
      " [ 1.21871584]\n",
      " [ 2.4541685 ]\n",
      " [ 0.34368056]]\n"
     ]
    }
   ],
   "source": [
    "n = 100  # Foreground sample size\n",
    "m = 100  # Background sample size\n",
    "p = 1000    # Number of features\n",
    "d = 2    # Latent dimension\n",
    "\n",
    "zx = onp.random.normal(size=(n, d))    # Foreground shared latent variables\n",
    "zy = onp.random.normal(size=(m, d))    # Background shared latent variables\n",
    "t = onp.random.normal(size=(n, d))     # Foreground-specific latent variables\n",
    "W = onp.random.normal(size=(d, p))     # Foreground-specific loadings matrix\n",
    "S = onp.random.normal(size=(d, p))     # Shared loadings matrix\n",
    "beta = onp.random.normal(size=(d, 1))  # Coefficient vector\n",
    "\n",
    "# W = [[-10.123,5.543]]     # Foreground-specific loadings matrix\n",
    "# S = [[1.908,2.67]]    # Shared loadings matrix\n",
    "# beta = [[1.103]]   # Coefficient vector\n",
    "sigma = 2e-2                           # Data matrix noise variance\n",
    "tau = 5e-1                             # Response noise variance\n",
    "\n",
    "print('==S==')\n",
    "print(S)\n",
    "print('==W==')\n",
    "print(W)\n",
    "print('==beta==')\n",
    "print(beta)\n",
    "\n",
    "# Foreground data\n",
    "X = zx @ S + t @ W + onp.random.normal(scale=sigma, size=(n, p))\n",
    "print(type(X))\n",
    "print(X.shape)\n",
    "\n",
    "# Background data\n",
    "Y = zy @ S + onp.random.normal(scale=sigma, size=(m, p))\n",
    "print(type(Y))\n",
    "print(Y.shape)\n",
    "\n",
    "# Response\n",
    "R = t @ beta + onp.random.normal(scale=tau, size=(n, 1))\n",
    "print(type(R))\n",
    "print(R)"
   ]
  },
  {
   "cell_type": "code",
   "execution_count": 3,
   "metadata": {},
   "outputs": [
    {
     "name": "stderr",
     "output_type": "stream",
     "text": [
      "2022-11-14 13:42:37.760060: E external/org_tensorflow/tensorflow/compiler/xla/service/slow_operation_alarm.cc:65] Constant folding an instruction is taking > 1s:\n",
      "\n",
      "  dot.16 (displaying the full instruction incurs a runtime overhead. Raise your logging level to 4 or above).\n",
      "\n",
      "This isn't necessarily a bug; constant-folding is inherently a trade-off between compilation time and speed at runtime.  XLA has some guards that attempt to keep constant folding from taking too long, but fundamentally you'll always be able to come up with an input program that takes a long time.\n",
      "\n",
      "If you'd like to file a bug, run with envvar XLA_FLAGS=--xla_dump_to=/tmp/foo and attach the results.\n",
      "2022-11-14 13:42:38.119645: E external/org_tensorflow/tensorflow/compiler/xla/service/slow_operation_alarm.cc:133] The operation took 1.359855s\n",
      "Constant folding an instruction is taking > 1s:\n",
      "\n",
      "  dot.16 (displaying the full instruction incurs a runtime overhead. Raise your logging level to 4 or above).\n",
      "\n",
      "This isn't necessarily a bug; constant-folding is inherently a trade-off between compilation time and speed at runtime.  XLA has some guards that attempt to keep constant folding from taking too long, but fundamentally you'll always be able to come up with an input program that takes a long time.\n",
      "\n",
      "If you'd like to file a bug, run with envvar XLA_FLAGS=--xla_dump_to=/tmp/foo and attach the results.\n"
     ]
    },
    {
     "name": "stdout",
     "output_type": "stream",
     "text": [
      "Step: 0               Log marginal lik.: -340882.06\n",
      "Step: 200             Log marginal lik.: -48542.11\n",
      "Step: 400             Log marginal lik.: -7049.6\n",
      "Step: 600             Log marginal lik.: 17666.16\n",
      "Step: 800             Log marginal lik.: 40107.98\n",
      "Step: 1000            Log marginal lik.: 61644.77\n",
      "Step: 1200            Log marginal lik.: 82703.6\n",
      "Step: 1400            Log marginal lik.: 103472.52\n",
      "Step: 1600            Log marginal lik.: 124048.58\n",
      "Step: 1800            Log marginal lik.: 144486.91\n",
      "Step: 2000            Log marginal lik.: 164820.81\n",
      "Step: 2200            Log marginal lik.: 185071.25\n",
      "Step: 2400            Log marginal lik.: 205251.83\n",
      "Step: 2600            Log marginal lik.: 225369.56\n",
      "Step: 2800            Log marginal lik.: 245428.56\n",
      "Step: 3000            Log marginal lik.: 265430.53\n",
      "Step: 3200            Log marginal lik.: 285373.22\n",
      "Step: 3400            Log marginal lik.: 305253.19\n",
      "Step: 3600            Log marginal lik.: 325063.81\n",
      "Step: 3800            Log marginal lik.: 344796.0\n",
      "Step: 4000            Log marginal lik.: 364438.19\n",
      "Step: 4200            Log marginal lik.: 383974.81\n",
      "Step: 4400            Log marginal lik.: 403386.88\n",
      "Step: 4600            Log marginal lik.: 422651.38\n",
      "Step: 4800            Log marginal lik.: 441739.12\n",
      "Step: 5000            Log marginal lik.: 460616.19\n",
      "Step: 5200            Log marginal lik.: 479240.31\n",
      "Step: 5400            Log marginal lik.: 497560.94\n",
      "Step: 5600            Log marginal lik.: 515520.81\n",
      "Step: 5800            Log marginal lik.: 533047.75\n",
      "Step: 6000            Log marginal lik.: 550061.19\n",
      "Step: 6200            Log marginal lik.: 566468.5\n",
      "Step: 6400            Log marginal lik.: 582160.0\n",
      "Step: 6600            Log marginal lik.: 597021.44\n",
      "Step: 6800            Log marginal lik.: 610921.5\n",
      "Step: 7000            Log marginal lik.: 623732.62\n",
      "Step: 7200            Log marginal lik.: 635318.0\n",
      "Step: 7400            Log marginal lik.: 645562.06\n",
      "Step: 7600            Log marginal lik.: 654369.25\n",
      "Step: 7800            Log marginal lik.: 661685.56\n",
      "Step: 8000            Log marginal lik.: 667517.62\n",
      "Step: 8200            Log marginal lik.: 671933.81\n",
      "Step: 8400            Log marginal lik.: 675085.25\n",
      "Step: 8600            Log marginal lik.: 677174.12\n"
     ]
    }
   ],
   "source": [
    "import sys\n",
    "\n",
    "sys.path.append(\"../contrastive-regression/models\")\n",
    "from linear_cr import LinearCR\n",
    "start = time.time()\n",
    "# Instantiate model\n",
    "model = LinearCR()\n",
    "\n",
    "# Fit model\n",
    "model.fit(X, Y, R, d,learning_rate=1e-3)\n",
    "\n",
    "# Make predictions on training data\n",
    "preds = model.predict(X)\n",
    "end = time.time()"
   ]
  },
  {
   "cell_type": "code",
   "execution_count": 4,
   "metadata": {},
   "outputs": [
    {
     "name": "stdout",
     "output_type": "stream",
     "text": [
      "1193.3458278179169\n"
     ]
    }
   ],
   "source": [
    "# runtime\n",
    "print(end - start)"
   ]
  },
  {
   "cell_type": "code",
   "execution_count": 5,
   "metadata": {},
   "outputs": [
    {
     "name": "stdout",
     "output_type": "stream",
     "text": [
      "==S==\n",
      "[[-0.05514435 -0.40514728 -0.01755774 ...  0.3200941  -0.20668942\n",
      "  -0.02709565]\n",
      " [ 0.12379269  1.1390636  -0.24094732 ...  0.6227569  -0.32181934\n",
      "  -0.05707942]]\n",
      "==W==\n",
      "[[ 0.1259903   0.08221516 -0.70202446 ... -0.19574171  0.01107084\n",
      "   0.28566328]\n",
      " [-0.80772537  0.0236049   0.28104356 ... -0.63159937  0.09648663\n",
      "   0.5860405 ]]\n",
      "==beta==\n",
      "[[ 0.4727161 ]\n",
      " [-0.48916787]]\n",
      "==sigma_sq==\n",
      "[0.00047107]\n",
      "==tau_sq==\n",
      "[0.21068984]\n",
      "==preds==\n",
      "[-0.50158864 -0.9963995  -2.2404726   0.17822146 -0.49810457  1.2148237\n",
      " -1.2785083   1.5859905   0.48700288 -0.6045491   0.4017331   0.59444517\n",
      "  1.1003919   2.0426435   1.2414651  -0.5604208   0.28331947  0.6391224\n",
      "  0.18056075 -1.1886312   0.12188448 -1.1017468   1.1565361  -1.6121168\n",
      " -1.2551776  -1.1466593  -2.0052552   1.8700676   0.8931238  -0.0545072\n",
      "  1.0596837   0.24111597  2.2718744  -1.820538    1.9997015  -1.1975645\n",
      "  1.2807534   0.9728544  -0.41454142 -0.6732051  -2.4349163   0.05108474\n",
      " -1.1005931  -1.7084022   1.0987613  -1.0742766   1.6390816   0.9813766\n",
      " -1.9342078   0.40675002 -2.192082    0.4642859   0.00461943 -2.7962892\n",
      " -2.572805   -0.3197876  -0.23567134 -2.335974   -0.20348348 -0.8624645\n",
      "  2.0591333  -2.7504342  -1.8768222  -0.34367207  1.2352595   2.4699965\n",
      " -0.23706608 -1.7042972   0.17661461 -1.821606    1.2196596   0.73996794\n",
      " -0.2607822  -2.5648923   1.0759565   1.0488741  -0.29266384  0.34704226\n",
      "  2.314311    2.329148   -1.073521    0.17227256 -0.50164765 -0.6243383\n",
      " -1.7029932  -2.2186248   1.7322943  -1.5191094   0.22629268  0.7290393\n",
      " -0.7827749  -0.10893965 -2.2289748   1.2289642   0.03271643  0.84046334\n",
      "  0.20888604  0.5752134   2.1209502   0.97683597]\n"
     ]
    }
   ],
   "source": [
    "print('==S==')\n",
    "print(model.S)\n",
    "print('==W==')\n",
    "print(model.W)\n",
    "print('==beta==')\n",
    "print(model.beta)\n",
    "print('==sigma_sq==')\n",
    "print(model.sigma_sq)\n",
    "print('==tau_sq==')\n",
    "print(model.tau_sq)\n",
    "print('==preds==')\n",
    "print(preds)"
   ]
  },
  {
   "cell_type": "code",
   "execution_count": 6,
   "metadata": {},
   "outputs": [
    {
     "name": "stdout",
     "output_type": "stream",
     "text": [
      "0.9473679241639963\n"
     ]
    }
   ],
   "source": [
    "_, _, r2_contrastivereg, _, _ = linregress(R.squeeze(), preds)\n",
    "print(r2_contrastivereg)"
   ]
  },
  {
   "cell_type": "code",
   "execution_count": 7,
   "metadata": {},
   "outputs": [
    {
     "data": {
      "image/png": "[encoded data removed]",
      "text/plain": [
       "<Figure size 500x500 with 1 Axes>"
      ]
     },
     "metadata": {},
     "output_type": "display_data"
    }
   ],
   "source": [
    "plt.figure(figsize=(5, 5))\n",
    "plt.subplot()\n",
    "plt.scatter(R, preds, c=\"black\")\n",
    "plt.xlabel(r\"True $r$\")\n",
    "plt.ylabel(r\"Predicted $r$\")\n",
    "plt.title(r\"$R^2 = \" + str(round(r2_contrastivereg, 2)) + \"$\")\n",
    "\n",
    "plt.tight_layout()\n",
    "plt.show()"
   ]
  },
  {
   "cell_type": "code",
   "execution_count": 8,
   "metadata": {},
   "outputs": [
    {
     "name": "stdout",
     "output_type": "stream",
     "text": [
      "Step: 0               Log marginal lik.: -361996.75\n",
      "Step: 200             Log marginal lik.: 130035.85\n",
      "Step: 400             Log marginal lik.: 326802.16\n",
      "Step: 600             Log marginal lik.: 513932.75\n",
      "Step: 800             Log marginal lik.: 646486.5\n",
      "Step: 1000            Log marginal lik.: 677781.56\n",
      "Step: 1200            Log marginal lik.: 678959.94\n",
      "Step: 1400            Log marginal lik.: 679106.12\n",
      "Step: 1600            Log marginal lik.: 678906.75\n",
      "Step: 1800            Log marginal lik.: 679025.25\n",
      "Step: 2000            Log marginal lik.: 679059.88\n",
      "Step: 2200            Log marginal lik.: 679256.12\n"
     ]
    }
   ],
   "source": [
    "# update some code in BZ\n",
    "import sys\n",
    "\n",
    "sys.path.append(\"../contrastive-regression/models\")\n",
    "from linear_cr_bz import LinearCRBZ\n",
    "newstart = time.time()\n",
    "# Instantiate model\n",
    "newmodel = LinearCRBZ()\n",
    "\n",
    "# Fit model\n",
    "newmodel.fit(X, Y, R, d)\n",
    "\n",
    "# Make predictions on training data\n",
    "newpreds = newmodel.predict(X)\n",
    "newend = time.time()"
   ]
  },
  {
   "cell_type": "code",
   "execution_count": 9,
   "metadata": {},
   "outputs": [
    {
     "name": "stdout",
     "output_type": "stream",
     "text": [
      "141.9312767982483\n"
     ]
    }
   ],
   "source": [
    "# runtime\n",
    "print(newend - newstart)"
   ]
  },
  {
   "cell_type": "code",
   "execution_count": 10,
   "metadata": {},
   "outputs": [
    {
     "name": "stdout",
     "output_type": "stream",
     "text": [
      "==S==\n",
      "[[-0.10971676 -0.96482307  0.15769476 ... -0.28337812  0.12787968\n",
      "   0.02622493]\n",
      " [-0.01667887 -0.22659437  0.12039162 ... -0.5036084   0.28904286\n",
      "   0.04426484]]\n",
      "==W==\n",
      "[[ 0.6869328   0.06275622 -0.389483   ...  0.53869253 -0.11272269\n",
      "  -0.423089  ]\n",
      " [ 0.0107708  -0.08041029  0.5237472  ...  0.25933483 -0.03068395\n",
      "  -0.3140862 ]]\n",
      "==beta==\n",
      "[[ 0.49213615]\n",
      " [-0.31120923]]\n",
      "==self.sigma_sq==\n",
      "[0.00039277]\n",
      "==tau_sq==\n",
      "[0.2106891]\n",
      "==preds==\n",
      "[-0.50159764 -0.9964124  -2.2404847   0.1782251  -0.4981005   1.2148165\n",
      " -1.2785149   1.5860157   0.48698545 -0.60455513  0.4017305   0.5944353\n",
      "  1.1003834   2.0426614   1.2414641  -0.5604254   0.28332478  0.63912773\n",
      "  0.1805702  -1.1886526   0.12189023 -1.1017557   1.1565341  -1.6121492\n",
      " -1.2551972  -1.146661   -2.0052736   1.8700898   0.89314085 -0.0545013\n",
      "  1.0596879   0.24112356  2.2718742  -1.8205587   1.9997119  -1.197568\n",
      "  1.2807802   0.9728607  -0.41454035 -0.6732093  -2.4349263   0.0510837\n",
      " -1.1005932  -1.7084259   1.0987623  -1.0742713   1.6391004   0.9813836\n",
      " -1.9342246   0.4067568  -2.1920934   0.4642934   0.00460759 -2.7962923\n",
      " -2.5728097  -0.31978697 -0.23567826 -2.3359845  -0.20349015 -0.8624545\n",
      "  2.059148   -2.7504494  -1.876816   -0.34365597  1.2352792   2.470015\n",
      " -0.23707739 -1.7043064   0.17659731 -1.82162     1.2196599   0.7399759\n",
      " -0.2607914  -2.564909    1.0759836   1.048886   -0.29266354  0.34705374\n",
      "  2.3143191   2.3291707  -1.0735332   0.17227554 -0.5016425  -0.6243229\n",
      " -1.7029897  -2.2186472   1.732299   -1.5191183   0.22630125  0.7290461\n",
      " -0.782762   -0.10895509 -2.2289855   1.2289793   0.03271822  0.8404743\n",
      "  0.20887956  0.5752321   2.120962    0.9768662 ]\n"
     ]
    }
   ],
   "source": [
    "print('==S==')\n",
    "print(newmodel.S)\n",
    "print('==W==')\n",
    "print(newmodel.W)\n",
    "print('==beta==')\n",
    "print(newmodel.beta)\n",
    "print('==self.sigma_sq==')\n",
    "print(newmodel.sigma_sq)\n",
    "print('==tau_sq==')\n",
    "print(newmodel.tau_sq)\n",
    "print('==preds==')\n",
    "print(newpreds)"
   ]
  },
  {
   "cell_type": "code",
   "execution_count": 15,
   "metadata": {},
   "outputs": [
    {
     "name": "stdout",
     "output_type": "stream",
     "text": [
      "[[ 5.4572403e-02  5.5967581e-01  1.4013702e-01 ... -3.6715984e-02\n",
      "  -7.8809738e-02 -8.7072700e-04]\n",
      " [-1.0711382e-01 -9.1246921e-01 -1.2055570e-01 ... -1.1914849e-01\n",
      "  -3.2776475e-02 -1.2814581e-02]]\n",
      "[[ 0.56094253 -0.01945894 -0.31254146 ...  0.34295082  0.10165184\n",
      "   0.13742572]\n",
      " [-0.7969546   0.05680539  0.24270365 ... -0.37226453 -0.06580268\n",
      "  -0.2719543 ]]\n",
      "[[ 0.01942006]\n",
      " [-0.17795864]]\n",
      "[-7.8294106e-05]\n",
      "[-7.4505806e-07]\n",
      "3.2424927e-05\n"
     ]
    }
   ],
   "source": [
    "# difference\n",
    "print(abs(newmodel.S) - abs(model.S))\n",
    "print(abs(newmodel.W) - abs(model.W))\n",
    "print(abs(newmodel.beta) - abs(model.beta))\n",
    "print(newmodel.sigma_sq - model.sigma_sq)\n",
    "print(newmodel.tau_sq - model.tau_sq)\n",
    "print(max(preds - newpreds))"
   ]
  },
  {
   "cell_type": "code",
   "execution_count": 12,
   "metadata": {},
   "outputs": [
    {
     "name": "stdout",
     "output_type": "stream",
     "text": [
      "0.9473681782798189\n"
     ]
    }
   ],
   "source": [
    "_, _, new_r2_contrastivereg, _, _ = linregress(R.squeeze(), newpreds)\n",
    "print(new_r2_contrastivereg)"
   ]
  },
  {
   "cell_type": "code",
   "execution_count": 13,
   "metadata": {},
   "outputs": [
    {
     "data": {
      "image/png": "[encoded data removed]",
      "text/plain": [
       "<Figure size 500x500 with 1 Axes>"
      ]
     },
     "metadata": {},
     "output_type": "display_data"
    }
   ],
   "source": [
    "plt.figure(figsize=(5, 5))\n",
    "plt.subplot()\n",
    "plt.scatter(R, newpreds, c=\"black\")\n",
    "plt.xlabel(r\"True $r$\")\n",
    "plt.ylabel(r\"Predicted $r$\")\n",
    "plt.title(r\"$R^2 = \" + str(round(new_r2_contrastivereg, 2)) + \"$\")\n",
    "\n",
    "plt.tight_layout()\n",
    "plt.show()"
   ]
  },
  {
   "cell_type": "code",
   "execution_count": null,
   "metadata": {},
   "outputs": [],
   "source": []
  }
 ],
 "metadata": {
  "kernelspec": {
   "display_name": "Python 3 (ipykernel)",
   "language": "python",
   "name": "python3"
  },
  "language_info": {
   "codemirror_mode": {
    "name": "ipython",
    "version": 3
   },
   "file_extension": ".py",
   "mimetype": "text/x-python",
   "name": "python",
   "nbconvert_exporter": "python",
   "pygments_lexer": "ipython3",
   "version": "3.10.8"
  }
 },
 "nbformat": 4,
 "nbformat_minor": 2
}
