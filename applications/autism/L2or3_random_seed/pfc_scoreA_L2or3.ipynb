{
 "cells": [
  {
   "cell_type": "code",
   "execution_count": 1,
   "metadata": {
    "execution": {
     "iopub.execute_input": "2023-03-26T06:36:03.972339Z",
     "iopub.status.busy": "2023-03-26T06:36:03.971748Z",
     "iopub.status.idle": "2023-03-26T06:36:11.088511Z",
     "shell.execute_reply": "2023-03-26T06:36:11.086952Z"
    }
   },
   "outputs": [],
   "source": [
    "import pyreadr\n",
    "import numpy as onp\n",
    "import pandas as pd\n",
    "import matplotlib\n",
    "import matplotlib.pyplot as plt\n",
    "import jax.numpy as jnp\n",
    "from scipy.stats import linregress\n",
    "\n",
    "import sys\n",
    "import os\n",
    "# sys.path.append(\"../../../models\") # lab server\n",
    "sys.path.append(\"../../../contrastive-regression/models/\") # lab server\n",
    "# from linear_cr import LinearCR\n",
    "from linear_cr_new import LinearContrastiveRegression"
   ]
  },
  {
   "cell_type": "code",
   "execution_count": 2,
   "metadata": {
    "execution": {
     "iopub.execute_input": "2023-03-26T06:36:11.094966Z",
     "iopub.status.busy": "2023-03-26T06:36:11.094696Z",
     "iopub.status.idle": "2023-03-26T06:36:11.099686Z",
     "shell.execute_reply": "2023-03-26T06:36:11.098830Z"
    }
   },
   "outputs": [],
   "source": [
    "def return_indices_of_a(a, b):\n",
    "  b_set = set(b)\n",
    "  return [i for i, v in enumerate(a) if v in b_set]"
   ]
  },
  {
   "cell_type": "code",
   "execution_count": 3,
   "metadata": {
    "execution": {
     "iopub.execute_input": "2023-03-26T06:36:11.104569Z",
     "iopub.status.busy": "2023-03-26T06:36:11.104269Z",
     "iopub.status.idle": "2023-03-26T06:36:11.295983Z",
     "shell.execute_reply": "2023-03-26T06:36:11.295361Z"
    }
   },
   "outputs": [
    {
     "name": "stdout",
     "output_type": "stream",
     "text": [
      "(1000, 41)\n"
     ]
    }
   ],
   "source": [
    "ct = 'L2or3'\n",
    "df = pyreadr.read_r('../pb/'+ ct + '.rds')[None]\n",
    "hvg = pyreadr.read_r('../hvg1k/'+ ct +'.rds')[None]\n",
    "input1 = df.index.values.tolist()\n",
    "input2 = hvg[None].to_list()\n",
    "match_id = return_indices_of_a(input1,input2)\n",
    "# print(len(match_id))\n",
    "df = df.iloc[match_id]\n",
    "print(df.shape)"
   ]
  },
  {
   "cell_type": "code",
   "execution_count": 4,
   "metadata": {
    "execution": {
     "iopub.execute_input": "2023-03-26T06:36:11.334337Z",
     "iopub.status.busy": "2023-03-26T06:36:11.333976Z",
     "iopub.status.idle": "2023-03-26T06:36:11.347010Z",
     "shell.execute_reply": "2023-03-26T06:36:11.346217Z"
    }
   },
   "outputs": [
    {
     "name": "stdout",
     "output_type": "stream",
     "text": [
      "(20, 5)\n"
     ]
    }
   ],
   "source": [
    "score_type = 'scoreA'\n",
    "output_dir = './' + score_type + '/'\n",
    "if not os.path.exists(output_dir):\n",
    "   os.makedirs(output_dir)\n",
    "\n",
    "score = pyreadr.read_r('../'+ score_type + '_pfc.rds')[None]\n",
    "print(score.shape)"
   ]
  },
  {
   "cell_type": "code",
   "execution_count": 5,
   "metadata": {
    "execution": {
     "iopub.execute_input": "2023-03-26T06:36:11.350323Z",
     "iopub.status.busy": "2023-03-26T06:36:11.350125Z",
     "iopub.status.idle": "2023-03-26T06:36:11.355801Z",
     "shell.execute_reply": "2023-03-26T06:36:11.355230Z"
    }
   },
   "outputs": [
    {
     "name": "stdout",
     "output_type": "stream",
     "text": [
      "<class 'numpy.ndarray'>\n",
      "(10, 1000)\n"
     ]
    }
   ],
   "source": [
    "X = df[score['sample'][score['diagnosis']=='ASD'].to_list()].to_numpy().T\n",
    "print(type(X))\n",
    "print(X.shape)"
   ]
  },
  {
   "cell_type": "code",
   "execution_count": 6,
   "metadata": {
    "execution": {
     "iopub.execute_input": "2023-03-26T06:36:11.359323Z",
     "iopub.status.busy": "2023-03-26T06:36:11.359094Z",
     "iopub.status.idle": "2023-03-26T06:36:11.365111Z",
     "shell.execute_reply": "2023-03-26T06:36:11.364405Z"
    }
   },
   "outputs": [
    {
     "name": "stdout",
     "output_type": "stream",
     "text": [
      "<class 'numpy.ndarray'>\n",
      "(10, 1000)\n"
     ]
    }
   ],
   "source": [
    "# A = df[score['sample'][score['diagnosis']=='ASD'].to_list()]\n",
    "# print(list(A) == score['sample'][score['diagnosis']=='ASD'].to_list())\n",
    "Y = df[score['sample'][score['diagnosis']=='Control'].to_list()].to_numpy().T\n",
    "print(type(Y))\n",
    "print(Y.shape)"
   ]
  },
  {
   "cell_type": "code",
   "execution_count": 7,
   "metadata": {
    "execution": {
     "iopub.execute_input": "2023-03-26T06:36:11.368229Z",
     "iopub.status.busy": "2023-03-26T06:36:11.368012Z",
     "iopub.status.idle": "2023-03-26T06:36:11.372168Z",
     "shell.execute_reply": "2023-03-26T06:36:11.371527Z"
    }
   },
   "outputs": [],
   "source": [
    "R = score['zscore'][score['diagnosis']=='ASD']\n",
    "R = onp.atleast_2d(R).T\n",
    "#print(R)"
   ]
  },
  {
   "cell_type": "code",
   "execution_count": 8,
   "metadata": {
    "execution": {
     "iopub.execute_input": "2023-03-26T06:36:11.375563Z",
     "iopub.status.busy": "2023-03-26T06:36:11.375335Z",
     "iopub.status.idle": "2023-03-26T06:42:16.241530Z",
     "shell.execute_reply": "2023-03-26T06:42:16.240560Z"
    }
   },
   "outputs": [
    {
     "name": "stdout",
     "output_type": "stream",
     "text": [
      "Step: 0               Log marginal lik.: -1972.26\n",
      "Step: 200             Log marginal lik.: 20898.42\n",
      "Step: 400             Log marginal lik.: 40638.84\n",
      "Step: 600             Log marginal lik.: 58978.41\n",
      "Step: 800             Log marginal lik.: 70956.46\n",
      "Step: 1000            Log marginal lik.: 73196.12\n",
      "Step: 1200            Log marginal lik.: 73151.83\n",
      "Step: 1400            Log marginal lik.: 73117.52\n",
      "Step: 1600            Log marginal lik.: 73237.05\n",
      "Step: 1800            Log marginal lik.: 73229.39\n",
      "Step: 2000            Log marginal lik.: 73135.45\n",
      "Step: 2200            Log marginal lik.: 73206.2\n",
      "Step: 2400            Log marginal lik.: 73240.05\n",
      "Step: 2600            Log marginal lik.: 73176.23\n",
      "Step: 2800            Log marginal lik.: 73131.84\n",
      "Step: 3000            Log marginal lik.: 73099.23\n",
      "Step: 3200            Log marginal lik.: 73178.19\n",
      "Step: 3400            Log marginal lik.: 73188.22\n",
      "Step: 3600            Log marginal lik.: 73172.11\n",
      "Step: 3800            Log marginal lik.: 73141.59\n",
      "Step: 4000            Log marginal lik.: 73195.16\n",
      "Step: 4200            Log marginal lik.: 73133.28\n",
      "Step: 4400            Log marginal lik.: 73156.44\n",
      "Step: 4600            Log marginal lik.: 73183.95\n",
      "Step: 4800            Log marginal lik.: 73197.41\n",
      "Step: 5000            Log marginal lik.: 73076.49\n",
      "Step: 5200            Log marginal lik.: 73209.62\n",
      "Step: 5400            Log marginal lik.: 73161.33\n",
      "Step: 5600            Log marginal lik.: 73166.43\n",
      "Step: 5800            Log marginal lik.: 73227.25\n",
      "Step: 6000            Log marginal lik.: 73155.67\n",
      "Step: 6200            Log marginal lik.: 73144.79\n",
      "Step: 6400            Log marginal lik.: 73214.08\n",
      "Step: 6600            Log marginal lik.: 73196.66\n",
      "Step: 6800            Log marginal lik.: 73115.69\n",
      "Step: 7000            Log marginal lik.: 73161.89\n",
      "Step: 7200            Log marginal lik.: 73201.52\n",
      "Step: 7400            Log marginal lik.: 73146.3\n",
      "Step: 7600            Log marginal lik.: 73188.9\n",
      "Step: 7800            Log marginal lik.: 73214.67\n",
      "Step: 8000            Log marginal lik.: 73109.18\n",
      "Step: 8200            Log marginal lik.: 73136.37\n",
      "Step: 8400            Log marginal lik.: 73217.39\n",
      "Step: 8600            Log marginal lik.: 73080.94\n",
      "Step: 8800            Log marginal lik.: 73131.0\n",
      "Step: 9000            Log marginal lik.: 73229.86\n",
      "Step: 9200            Log marginal lik.: 73150.5\n",
      "Step: 9400            Log marginal lik.: 73151.84\n",
      "Step: 9600            Log marginal lik.: 73012.45\n",
      "Step: 9800            Log marginal lik.: 73194.47\n",
      "Step: 10000           Log marginal lik.: 73169.98\n",
      "Step: 10200           Log marginal lik.: 73189.47\n",
      "Step: 10400           Log marginal lik.: 73195.4\n",
      "Step: 10600           Log marginal lik.: 73156.81\n",
      "Step: 10800           Log marginal lik.: 73149.43\n",
      "Step: 11000           Log marginal lik.: 73188.84\n",
      "Step: 11200           Log marginal lik.: 73177.84\n",
      "Step: 11400           Log marginal lik.: 73153.36\n",
      "Step: 11600           Log marginal lik.: 73236.26\n",
      "Step: 11800           Log marginal lik.: 73145.39\n",
      "Step: 12000           Log marginal lik.: 73133.99\n",
      "Step: 12200           Log marginal lik.: 73157.22\n",
      "Step: 12400           Log marginal lik.: 73148.56\n",
      "Step: 12600           Log marginal lik.: 73143.0\n",
      "Step: 12800           Log marginal lik.: 73156.8\n",
      "Step: 13000           Log marginal lik.: 73109.05\n",
      "Step: 13200           Log marginal lik.: 73226.0\n",
      "Step: 13400           Log marginal lik.: 73218.2\n",
      "Step: 13600           Log marginal lik.: 73122.44\n",
      "Step: 13800           Log marginal lik.: 73157.42\n",
      "Step: 14000           Log marginal lik.: 73204.02\n",
      "Step: 14200           Log marginal lik.: 73127.77\n",
      "Step: 14400           Log marginal lik.: 73183.14\n",
      "Step: 14600           Log marginal lik.: 73043.19\n",
      "Step: 14800           Log marginal lik.: 73173.12\n",
      "Step: 15000           Log marginal lik.: 73137.88\n",
      "Step: 15200           Log marginal lik.: 73196.34\n",
      "Step: 15400           Log marginal lik.: 73135.9\n",
      "Step: 15600           Log marginal lik.: 73157.48\n",
      "Step: 15800           Log marginal lik.: 73112.62\n",
      "Step: 16000           Log marginal lik.: 73153.89\n",
      "Step: 16200           Log marginal lik.: 73181.17\n",
      "Step: 16400           Log marginal lik.: 73195.31\n",
      "Step: 16600           Log marginal lik.: 73192.23\n",
      "Step: 16800           Log marginal lik.: 73151.87\n",
      "Step: 17000           Log marginal lik.: 73180.77\n",
      "Step: 17200           Log marginal lik.: 72889.38\n",
      "Step: 17400           Log marginal lik.: 73201.27\n",
      "Step: 17600           Log marginal lik.: 73164.8\n",
      "Step: 17800           Log marginal lik.: 73144.52\n",
      "Step: 18000           Log marginal lik.: 73196.59\n",
      "Step: 18200           Log marginal lik.: 73143.18\n",
      "Step: 18400           Log marginal lik.: 73170.98\n",
      "Step: 18600           Log marginal lik.: 73149.16\n",
      "Step: 18800           Log marginal lik.: 73184.59\n",
      "Step: 19000           Log marginal lik.: 73128.97\n",
      "Step: 19200           Log marginal lik.: 73183.97\n",
      "Step: 19400           Log marginal lik.: 73208.53\n",
      "Step: 19600           Log marginal lik.: 73156.39\n",
      "Step: 19800           Log marginal lik.: 73203.53\n",
      "Step: 20000           Log marginal lik.: 73117.11\n",
      "Step: 20200           Log marginal lik.: 73186.27\n",
      "Step: 20400           Log marginal lik.: 73259.73\n",
      "Step: 20600           Log marginal lik.: 73174.12\n",
      "Step: 20800           Log marginal lik.: 73114.7\n",
      "Step: 21000           Log marginal lik.: 73172.35\n",
      "Step: 21200           Log marginal lik.: 73136.88\n",
      "Step: 21400           Log marginal lik.: 73178.66\n",
      "Step: 21600           Log marginal lik.: 73180.56\n",
      "Step: 21800           Log marginal lik.: 73169.31\n",
      "Step: 22000           Log marginal lik.: 72913.93\n",
      "Step: 22200           Log marginal lik.: 73171.54\n",
      "Step: 22400           Log marginal lik.: 73153.81\n",
      "Step: 22600           Log marginal lik.: 73139.13\n",
      "Step: 22800           Log marginal lik.: 73140.09\n",
      "Step: 23000           Log marginal lik.: 73209.17\n",
      "Step: 23200           Log marginal lik.: 73164.18\n",
      "Step: 23400           Log marginal lik.: 73161.19\n",
      "Step: 23600           Log marginal lik.: 73168.97\n",
      "Step: 23800           Log marginal lik.: 73136.67\n",
      "Step: 24000           Log marginal lik.: 73167.97\n",
      "Step: 24200           Log marginal lik.: 73210.38\n",
      "Step: 24400           Log marginal lik.: 73080.28\n",
      "Step: 24600           Log marginal lik.: 73212.28\n",
      "Step: 24800           Log marginal lik.: 73133.78\n",
      "Step: 25000           Log marginal lik.: 73174.69\n",
      "Step: 25200           Log marginal lik.: 73155.72\n",
      "Step: 25400           Log marginal lik.: 73177.77\n",
      "Step: 25600           Log marginal lik.: 73042.63\n",
      "Step: 25800           Log marginal lik.: 73173.97\n",
      "Step: 26000           Log marginal lik.: 73185.84\n",
      "Step: 26200           Log marginal lik.: 73106.45\n",
      "Step: 26400           Log marginal lik.: 73214.59\n",
      "Step: 26600           Log marginal lik.: 73094.47\n",
      "Step: 26800           Log marginal lik.: 73196.84\n",
      "Step: 27000           Log marginal lik.: 73201.18\n",
      "Step: 27200           Log marginal lik.: 73176.95\n",
      "Step: 27400           Log marginal lik.: 72660.62\n",
      "Step: 27600           Log marginal lik.: 72988.34\n",
      "Step: 27800           Log marginal lik.: 73202.0\n",
      "Step: 28000           Log marginal lik.: 73122.35\n",
      "Step: 28200           Log marginal lik.: 73180.47\n",
      "Step: 28400           Log marginal lik.: 73150.74\n",
      "Step: 28600           Log marginal lik.: 73123.02\n",
      "Step: 28800           Log marginal lik.: 73163.09\n",
      "Step: 29000           Log marginal lik.: 73215.88\n"
     ]
    }
   ],
   "source": [
    "# Instantiate model\n",
    "model = LinearContrastiveRegression()\n",
    "\n",
    "# Fit model\n",
    "d = 8 # dimension reduction\n",
    "model.fit(X, Y, R, d, seed = 100)\n",
    "\n",
    "# Make predictions on training data\n",
    "preds = model.predict(X)"
   ]
  },
  {
   "cell_type": "code",
   "execution_count": 9,
   "metadata": {
    "execution": {
     "iopub.execute_input": "2023-03-26T06:42:16.246246Z",
     "iopub.status.busy": "2023-03-26T06:42:16.246081Z",
     "iopub.status.idle": "2023-03-26T06:42:16.251450Z",
     "shell.execute_reply": "2023-03-26T06:42:16.250824Z"
    }
   },
   "outputs": [
    {
     "name": "stdout",
     "output_type": "stream",
     "text": [
      "0.8942021004278445\n"
     ]
    }
   ],
   "source": [
    "_, _, r2_contrastivereg, _, _ = linregress(R.squeeze(), preds)\n",
    "print(r2_contrastivereg)"
   ]
  },
  {
   "cell_type": "code",
   "execution_count": 10,
   "metadata": {
    "execution": {
     "iopub.execute_input": "2023-03-26T06:42:16.256530Z",
     "iopub.status.busy": "2023-03-26T06:42:16.256334Z",
     "iopub.status.idle": "2023-03-26T06:42:16.592408Z",
     "shell.execute_reply": "2023-03-26T06:42:16.591917Z"
    }
   },
   "outputs": [
    {
     "data": {
      "image/png": "[encoded data removed]",
      "text/plain": [
       "<Figure size 500x500 with 1 Axes>"
      ]
     },
     "metadata": {},
     "output_type": "display_data"
    }
   ],
   "source": [
    "plt.figure(figsize=(5, 5))\n",
    "plt.subplot()\n",
    "plt.scatter(R, preds, c=\"black\")\n",
    "plt.xlabel(r\"True $r$\")\n",
    "plt.ylabel(r\"Predicted $r$\")\n",
    "plt.title(r\"d = 5; top 1k HVGs; $R^2 = \" + str(round(r2_contrastivereg, 2)) + \"$\")\n",
    "\n",
    "plt.tight_layout()\n",
    "plt.show()"
   ]
  },
  {
   "cell_type": "code",
   "execution_count": 11,
   "metadata": {
    "execution": {
     "iopub.execute_input": "2023-03-26T06:42:16.597602Z",
     "iopub.status.busy": "2023-03-26T06:42:16.597432Z",
     "iopub.status.idle": "2023-03-26T06:42:16.602769Z",
     "shell.execute_reply": "2023-03-26T06:42:16.602080Z"
    }
   },
   "outputs": [],
   "source": [
    "# check latent factor t\n",
    "latent_t = onp.asarray(model.t)\n",
    "asd_sample = score['sample'][score['diagnosis']=='ASD'].to_list()\n",
    "dims = [\"Dim%d\" % i for i in range(1,9)]"
   ]
  },
  {
   "cell_type": "code",
   "execution_count": 12,
   "metadata": {
    "execution": {
     "iopub.execute_input": "2023-03-26T06:42:16.605762Z",
     "iopub.status.busy": "2023-03-26T06:42:16.605567Z",
     "iopub.status.idle": "2023-03-26T06:42:16.784637Z",
     "shell.execute_reply": "2023-03-26T06:42:16.784039Z"
    }
   },
   "outputs": [
    {
     "name": "stdout",
     "output_type": "stream",
     "text": [
      "      RP5-857K21.4  MTND1P23  MTND2P28  RP5-857K21.6  MTATP6P1     ACAP3  \\\n",
      "Dim1     -0.055902  0.019793 -0.061925     -0.029359  0.049779  0.035803   \n",
      "Dim2      0.010454 -0.113961  0.102209     -0.142254  0.090259  0.115152   \n",
      "Dim3     -0.005811  0.125214  0.139444      0.193749  0.036121  0.025308   \n",
      "Dim4      0.099822 -0.079015 -0.048944     -0.135144  0.343136  0.082071   \n",
      "Dim5      0.021538 -0.160117 -0.033225     -0.222382 -0.322725 -0.049549   \n",
      "\n",
      "         GABRD      CHD5      ENO1    CLSTN1  ...  MAPK8IP2   TEKT4P2  \\\n",
      "Dim1  0.032869  0.024814  0.006120 -0.167795  ...  0.036557 -0.033532   \n",
      "Dim2  0.103178  0.060848  0.044529  0.301663  ...  0.023604 -0.018260   \n",
      "Dim3  0.060264  0.070129  0.067586  0.316026  ...  0.044337 -0.017671   \n",
      "Dim4  0.066912  0.114065  0.035909  0.210717  ...  0.043732  0.058672   \n",
      "Dim5 -0.133786 -0.266627 -0.117917 -0.425755  ... -0.130372  0.042770   \n",
      "\n",
      "      bP-21201H5.1  ANKRD20A11P  MIR99AHG     ATP5J       APP      SOD1  \\\n",
      "Dim1     -0.062136    -0.034269 -0.283091 -0.050264 -0.283007 -0.016359   \n",
      "Dim2      0.043807     0.093347  0.314314  0.033123  0.548908  0.030863   \n",
      "Dim3      0.006517     0.069235  0.197408  0.078557  0.243799  0.044114   \n",
      "Dim4      0.066052    -0.005158  0.375384  0.027263  0.435885  0.038663   \n",
      "Dim5     -0.104520    -0.051706 -0.305354 -0.007473 -0.063907 -0.035510   \n",
      "\n",
      "          PCP4     SUMO3  \n",
      "Dim1 -0.056835  0.000346  \n",
      "Dim2  0.096356  0.006157  \n",
      "Dim3  0.050278  0.053754  \n",
      "Dim4  0.070001  0.074382  \n",
      "Dim5  0.087101 -0.170702  \n",
      "\n",
      "[5 rows x 1000 columns]\n"
     ]
    }
   ],
   "source": [
    "loading_w = pd.DataFrame(model.W, columns = df.index.to_list(), index = dims,dtype = \"float\")\n",
    "pyreadr.write_rds(output_dir + 'seed100_W.rds', loading_w, compress=\"gzip\")\n",
    "print(loading_w.head())"
   ]
  },
  {
   "cell_type": "code",
   "execution_count": 13,
   "metadata": {
    "execution": {
     "iopub.execute_input": "2023-03-26T06:42:16.788654Z",
     "iopub.status.busy": "2023-03-26T06:42:16.788501Z",
     "iopub.status.idle": "2023-03-26T06:42:16.804809Z",
     "shell.execute_reply": "2023-03-26T06:42:16.804115Z"
    }
   },
   "outputs": [
    {
     "name": "stdout",
     "output_type": "stream",
     "text": [
      "              Dim1      Dim2      Dim3      Dim4      Dim5      Dim6  \\\n",
      "5144_PFC -0.722753  0.365775 -0.599536 -0.444759  0.095994  0.662477   \n",
      "5278_PFC  0.013467 -0.065277  0.696176  0.095579  0.560865  0.015380   \n",
      "5294_BA9 -0.201258  0.118389 -0.335411 -0.233259 -0.055289 -0.097901   \n",
      "5403_PFC  0.039881  0.303204  0.067737  1.069785  0.211000  0.494211   \n",
      "5419_PFC -0.472928  0.290897  0.700969  0.314448  0.297527 -0.445675   \n",
      "\n",
      "              Dim7      Dim8  \n",
      "5144_PFC  0.442501 -0.173982  \n",
      "5278_PFC  0.385612 -0.470239  \n",
      "5294_BA9  0.028244  0.034541  \n",
      "5403_PFC -0.047593 -0.283951  \n",
      "5419_PFC  0.840847  0.330221  \n"
     ]
    }
   ],
   "source": [
    "latent_t = pd.DataFrame(model.t, columns = dims, index = asd_sample, dtype=\"float\")\n",
    "pyreadr.write_rds(output_dir + 'seed100_t.rds', latent_t, compress=\"gzip\")\n",
    "print(latent_t.head())"
   ]
  },
  {
   "cell_type": "code",
   "execution_count": 14,
   "metadata": {
    "execution": {
     "iopub.execute_input": "2023-03-26T06:42:16.808729Z",
     "iopub.status.busy": "2023-03-26T06:42:16.808476Z",
     "iopub.status.idle": "2023-03-26T06:42:16.823439Z",
     "shell.execute_reply": "2023-03-26T06:42:16.822802Z"
    }
   },
   "outputs": [],
   "source": [
    "pyreadr.write_rds(output_dir + 'seed100_beta.rds', pd.DataFrame(data=model.beta), compress=\"gzip\")"
   ]
  },
  {
   "cell_type": "code",
   "execution_count": 15,
   "metadata": {
    "execution": {
     "iopub.execute_input": "2023-03-26T06:42:16.827096Z",
     "iopub.status.busy": "2023-03-26T06:42:16.826943Z",
     "iopub.status.idle": "2023-03-26T06:42:16.993981Z",
     "shell.execute_reply": "2023-03-26T06:42:16.993525Z"
    }
   },
   "outputs": [
    {
     "name": "stdout",
     "output_type": "stream",
     "text": [
      "<bound method NDFrame.head of       RP5-857K21.4  MTND1P23  MTND2P28  RP5-857K21.6  MTATP6P1     ACAP3  \\\n",
      "Dim1     -0.033026 -0.066598 -0.004835     -0.036625 -0.206754 -0.054018   \n",
      "Dim2     -0.004842  0.165433  0.000030      0.225628  0.126666 -0.078264   \n",
      "Dim3      0.067847 -0.062399  0.004624     -0.116434  0.211828  0.119569   \n",
      "Dim4     -0.042475 -0.058787 -0.000672     -0.090863 -0.123018 -0.134006   \n",
      "Dim5     -0.062191  0.080563 -0.003585      0.112391 -0.159848 -0.097980   \n",
      "Dim6     -0.006779 -0.047135 -0.005311     -0.072855 -0.064903  0.011898   \n",
      "Dim7      0.024863 -0.202478  0.002246     -0.256641  0.025322  0.016714   \n",
      "Dim8      0.062772  0.133040  0.009460      0.186684  0.198858  0.040894   \n",
      "\n",
      "         GABRD      CHD5      ENO1    CLSTN1  ...  MAPK8IP2   TEKT4P2  \\\n",
      "Dim1  0.031608 -0.065026  0.036604  0.148324  ... -0.006672  0.050729   \n",
      "Dim2 -0.032692 -0.078261 -0.001341 -0.026490  ... -0.014929  0.017387   \n",
      "Dim3  0.079752  0.172079  0.062652  0.210773  ...  0.050538  0.033995   \n",
      "Dim4 -0.053863 -0.175524 -0.017153 -0.136003  ... -0.030986  0.035211   \n",
      "Dim5 -0.034834 -0.124685 -0.036750 -0.086215  ... -0.026866 -0.070637   \n",
      "Dim6 -0.005554 -0.028145 -0.038112 -0.132237  ... -0.013072 -0.070040   \n",
      "Dim7 -0.029708  0.004126 -0.044767 -0.133228  ... -0.007932 -0.038862   \n",
      "Dim8  0.019127  0.100473  0.007545  0.134079  ...  0.022780  0.034305   \n",
      "\n",
      "      bP-21201H5.1  ANKRD20A11P  MIR99AHG     ATP5J       APP      SOD1  \\\n",
      "Dim1      0.070666     0.029620  0.237555  0.034672  0.245346  0.013237   \n",
      "Dim2     -0.007334    -0.071191 -0.325489 -0.007313 -0.186127  0.025613   \n",
      "Dim3     -0.000100    -0.012643  0.271014  0.056276  0.362600  0.112678   \n",
      "Dim4     -0.040234    -0.031060 -0.156810 -0.033773 -0.198139 -0.064137   \n",
      "Dim5     -0.031224    -0.012715 -0.206056 -0.036878 -0.213152 -0.044725   \n",
      "Dim6     -0.042601    -0.028776 -0.222190 -0.044826 -0.231074 -0.054763   \n",
      "Dim7     -0.114683     0.038032 -0.212109 -0.062360 -0.188861 -0.070262   \n",
      "Dim8      0.023571    -0.026597  0.177280 -0.010005  0.211505  0.006501   \n",
      "\n",
      "          PCP4     SUMO3  \n",
      "Dim1  0.052906  0.021108  \n",
      "Dim2 -0.023527 -0.011617  \n",
      "Dim3  0.042283  0.041455  \n",
      "Dim4 -0.057095 -0.011463  \n",
      "Dim5 -0.020181 -0.035498  \n",
      "Dim6 -0.019717 -0.004702  \n",
      "Dim7 -0.077941 -0.006219  \n",
      "Dim8 -0.004318  0.030416  \n",
      "\n",
      "[8 rows x 1000 columns]>\n"
     ]
    }
   ],
   "source": [
    "auxiliary_s = pd.DataFrame(model.S, columns = df.index.to_list(), index = dims, dtype=\"float\")\n",
    "print(auxiliary_s.head)\n",
    "pyreadr.write_rds(output_dir + 'seed100_S.rds', auxiliary_s, compress=\"gzip\")"
   ]
  },
  {
   "cell_type": "code",
   "execution_count": 16,
   "metadata": {
    "execution": {
     "iopub.execute_input": "2023-03-26T06:42:16.998093Z",
     "iopub.status.busy": "2023-03-26T06:42:16.997872Z",
     "iopub.status.idle": "2023-03-26T06:42:17.014243Z",
     "shell.execute_reply": "2023-03-26T06:42:17.013585Z"
    }
   },
   "outputs": [
    {
     "name": "stdout",
     "output_type": "stream",
     "text": [
      "[ 0.9662519   1.6591302  -1.4054949   0.68466645  1.209081   -0.4314881\n",
      "  0.5733102  -0.30731687]\n",
      "Dimension with largest absolute value of beta: Dim2\n"
     ]
    }
   ],
   "source": [
    "## sort by absolute value of beta\n",
    "beta = onp.array(model.beta.T.flatten())\n",
    "print(beta)\n",
    "indices = onp.argsort(abs(beta))\n",
    "max_abs_beta_index = indices[-1] # start from 0\n",
    "target_dim = 'Dim' + str(max_abs_beta_index + 1)\n",
    "print('Dimension with largest absolute value of beta: ' + target_dim)"
   ]
  },
  {
   "cell_type": "code",
   "execution_count": 17,
   "metadata": {
    "execution": {
     "iopub.execute_input": "2023-03-26T06:42:17.018244Z",
     "iopub.status.busy": "2023-03-26T06:42:17.018093Z",
     "iopub.status.idle": "2023-03-26T06:42:17.050983Z",
     "shell.execute_reply": "2023-03-26T06:42:17.050364Z"
    }
   },
   "outputs": [
    {
     "data": {
      "text/html": [
       "<div>\n",
       "<style scoped>\n",
       "    .dataframe tbody tr th:only-of-type {\n",
       "        vertical-align: middle;\n",
       "    }\n",
       "\n",
       "    .dataframe tbody tr th {\n",
       "        vertical-align: top;\n",
       "    }\n",
       "\n",
       "    .dataframe thead th {\n",
       "        text-align: right;\n",
       "    }\n",
       "</style>\n",
       "<table border=\"1\" class=\"dataframe\">\n",
       "  <thead>\n",
       "    <tr style=\"text-align: right;\">\n",
       "      <th></th>\n",
       "      <th>Dim2</th>\n",
       "      <th>gene</th>\n",
       "      <th>rank</th>\n",
       "    </tr>\n",
       "  </thead>\n",
       "  <tbody>\n",
       "    <tr>\n",
       "      <th>MALAT1</th>\n",
       "      <td>2.155225</td>\n",
       "      <td>MALAT1</td>\n",
       "      <td>1</td>\n",
       "    </tr>\n",
       "    <tr>\n",
       "      <th>PCDH9</th>\n",
       "      <td>1.346627</td>\n",
       "      <td>PCDH9</td>\n",
       "      <td>2</td>\n",
       "    </tr>\n",
       "    <tr>\n",
       "      <th>PTPRD</th>\n",
       "      <td>1.323128</td>\n",
       "      <td>PTPRD</td>\n",
       "      <td>3</td>\n",
       "    </tr>\n",
       "    <tr>\n",
       "      <th>RASGEF1B</th>\n",
       "      <td>1.280001</td>\n",
       "      <td>RASGEF1B</td>\n",
       "      <td>4</td>\n",
       "    </tr>\n",
       "    <tr>\n",
       "      <th>CADM2</th>\n",
       "      <td>1.208188</td>\n",
       "      <td>CADM2</td>\n",
       "      <td>5</td>\n",
       "    </tr>\n",
       "    <tr>\n",
       "      <th>...</th>\n",
       "      <td>...</td>\n",
       "      <td>...</td>\n",
       "      <td>...</td>\n",
       "    </tr>\n",
       "    <tr>\n",
       "      <th>RP5-857K21.6</th>\n",
       "      <td>-0.142254</td>\n",
       "      <td>RP5-857K21.6</td>\n",
       "      <td>996</td>\n",
       "    </tr>\n",
       "    <tr>\n",
       "      <th>BAIAP2L2</th>\n",
       "      <td>-0.175693</td>\n",
       "      <td>BAIAP2L2</td>\n",
       "      <td>997</td>\n",
       "    </tr>\n",
       "    <tr>\n",
       "      <th>HSPB1</th>\n",
       "      <td>-0.193172</td>\n",
       "      <td>HSPB1</td>\n",
       "      <td>998</td>\n",
       "    </tr>\n",
       "    <tr>\n",
       "      <th>RP11-750B16.1</th>\n",
       "      <td>-0.202211</td>\n",
       "      <td>RP11-750B16.1</td>\n",
       "      <td>999</td>\n",
       "    </tr>\n",
       "    <tr>\n",
       "      <th>RP11-30J20.1</th>\n",
       "      <td>-0.223203</td>\n",
       "      <td>RP11-30J20.1</td>\n",
       "      <td>1000</td>\n",
       "    </tr>\n",
       "  </tbody>\n",
       "</table>\n",
       "<p>1000 rows × 3 columns</p>\n",
       "</div>"
      ],
      "text/plain": [
       "                   Dim2           gene  rank\n",
       "MALAT1         2.155225         MALAT1     1\n",
       "PCDH9          1.346627          PCDH9     2\n",
       "PTPRD          1.323128          PTPRD     3\n",
       "RASGEF1B       1.280001       RASGEF1B     4\n",
       "CADM2          1.208188          CADM2     5\n",
       "...                 ...            ...   ...\n",
       "RP5-857K21.6  -0.142254   RP5-857K21.6   996\n",
       "BAIAP2L2      -0.175693       BAIAP2L2   997\n",
       "HSPB1         -0.193172          HSPB1   998\n",
       "RP11-750B16.1 -0.202211  RP11-750B16.1   999\n",
       "RP11-30J20.1  -0.223203   RP11-30J20.1  1000\n",
       "\n",
       "[1000 rows x 3 columns]"
      ]
     },
     "execution_count": 17,
     "metadata": {},
     "output_type": "execute_result"
    }
   ],
   "source": [
    "## sort gene (w)\n",
    "w_d = loading_w.loc[[target_dim]].T\n",
    "w_d['gene'] = w_d.index.values.tolist()\n",
    "sorted_w_d = w_d.sort_values(by=target_dim, ascending=False)\n",
    "sorted_w_d['rank'] = list(range(1,w_d.shape[0]+1))\n",
    "sorted_w_d.to_csv(output_dir + 'seed100_gene_rank_max_abs_beta.csv', index = False)\n",
    "\n",
    "sorted_w_d"
   ]
  }
 ],
 "metadata": {
  "kernelspec": {
   "display_name": "Python 3 (ipykernel)",
   "language": "python",
   "name": "python3"
  },
  "language_info": {
   "codemirror_mode": {
    "name": "ipython",
    "version": 3
   },
   "file_extension": ".py",
   "mimetype": "text/x-python",
   "name": "python",
   "nbconvert_exporter": "python",
   "pygments_lexer": "ipython3",
   "version": "3.10.8"
  }
 },
 "nbformat": 4,
 "nbformat_minor": 2
}
