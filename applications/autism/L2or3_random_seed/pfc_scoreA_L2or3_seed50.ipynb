{
 "cells": [
  {
   "cell_type": "code",
   "execution_count": 1,
   "metadata": {
    "execution": {
     "iopub.execute_input": "2023-03-26T06:36:03.972339Z",
     "iopub.status.busy": "2023-03-26T06:36:03.971748Z",
     "iopub.status.idle": "2023-03-26T06:36:11.088511Z",
     "shell.execute_reply": "2023-03-26T06:36:11.086952Z"
    }
   },
   "outputs": [],
   "source": [
    "import pyreadr\n",
    "import numpy as onp\n",
    "import pandas as pd\n",
    "import matplotlib\n",
    "import matplotlib.pyplot as plt\n",
    "import jax.numpy as jnp\n",
    "from scipy.stats import linregress\n",
    "\n",
    "import sys\n",
    "import os\n",
    "# sys.path.append(\"../../../models\") # lab server\n",
    "sys.path.append(\"../../../contrastive-regression/models/\") # lab server\n",
    "# from linear_cr import LinearCR\n",
    "from linear_cr_new import LinearContrastiveRegression"
   ]
  },
  {
   "cell_type": "code",
   "execution_count": 2,
   "metadata": {
    "execution": {
     "iopub.execute_input": "2023-03-26T06:36:11.094966Z",
     "iopub.status.busy": "2023-03-26T06:36:11.094696Z",
     "iopub.status.idle": "2023-03-26T06:36:11.099686Z",
     "shell.execute_reply": "2023-03-26T06:36:11.098830Z"
    }
   },
   "outputs": [],
   "source": [
    "def return_indices_of_a(a, b):\n",
    "  b_set = set(b)\n",
    "  return [i for i, v in enumerate(a) if v in b_set]"
   ]
  },
  {
   "cell_type": "code",
   "execution_count": 3,
   "metadata": {
    "execution": {
     "iopub.execute_input": "2023-03-26T06:36:11.104569Z",
     "iopub.status.busy": "2023-03-26T06:36:11.104269Z",
     "iopub.status.idle": "2023-03-26T06:36:11.295983Z",
     "shell.execute_reply": "2023-03-26T06:36:11.295361Z"
    }
   },
   "outputs": [
    {
     "name": "stdout",
     "output_type": "stream",
     "text": [
      "(1000, 41)\n"
     ]
    }
   ],
   "source": [
    "ct = 'L2or3'\n",
    "df = pyreadr.read_r('../pb/'+ ct + '.rds')[None]\n",
    "hvg = pyreadr.read_r('../hvg1k/'+ ct +'.rds')[None]\n",
    "input1 = df.index.values.tolist()\n",
    "input2 = hvg[None].to_list()\n",
    "match_id = return_indices_of_a(input1,input2)\n",
    "# print(len(match_id))\n",
    "df = df.iloc[match_id]\n",
    "print(df.shape)"
   ]
  },
  {
   "cell_type": "code",
   "execution_count": 4,
   "metadata": {
    "execution": {
     "iopub.execute_input": "2023-03-26T06:36:11.334337Z",
     "iopub.status.busy": "2023-03-26T06:36:11.333976Z",
     "iopub.status.idle": "2023-03-26T06:36:11.347010Z",
     "shell.execute_reply": "2023-03-26T06:36:11.346217Z"
    }
   },
   "outputs": [
    {
     "name": "stdout",
     "output_type": "stream",
     "text": [
      "(20, 5)\n"
     ]
    }
   ],
   "source": [
    "score_type = 'scoreA'\n",
    "output_dir = './' + score_type + '/'\n",
    "if not os.path.exists(output_dir):\n",
    "   os.makedirs(output_dir)\n",
    "\n",
    "score = pyreadr.read_r('../'+ score_type + '_pfc.rds')[None]\n",
    "print(score.shape)"
   ]
  },
  {
   "cell_type": "code",
   "execution_count": 5,
   "metadata": {
    "execution": {
     "iopub.execute_input": "2023-03-26T06:36:11.350323Z",
     "iopub.status.busy": "2023-03-26T06:36:11.350125Z",
     "iopub.status.idle": "2023-03-26T06:36:11.355801Z",
     "shell.execute_reply": "2023-03-26T06:36:11.355230Z"
    }
   },
   "outputs": [
    {
     "name": "stdout",
     "output_type": "stream",
     "text": [
      "<class 'numpy.ndarray'>\n",
      "(10, 1000)\n"
     ]
    }
   ],
   "source": [
    "X = df[score['sample'][score['diagnosis']=='ASD'].to_list()].to_numpy().T\n",
    "print(type(X))\n",
    "print(X.shape)"
   ]
  },
  {
   "cell_type": "code",
   "execution_count": 6,
   "metadata": {
    "execution": {
     "iopub.execute_input": "2023-03-26T06:36:11.359323Z",
     "iopub.status.busy": "2023-03-26T06:36:11.359094Z",
     "iopub.status.idle": "2023-03-26T06:36:11.365111Z",
     "shell.execute_reply": "2023-03-26T06:36:11.364405Z"
    }
   },
   "outputs": [
    {
     "name": "stdout",
     "output_type": "stream",
     "text": [
      "<class 'numpy.ndarray'>\n",
      "(10, 1000)\n"
     ]
    }
   ],
   "source": [
    "# A = df[score['sample'][score['diagnosis']=='ASD'].to_list()]\n",
    "# print(list(A) == score['sample'][score['diagnosis']=='ASD'].to_list())\n",
    "Y = df[score['sample'][score['diagnosis']=='Control'].to_list()].to_numpy().T\n",
    "print(type(Y))\n",
    "print(Y.shape)"
   ]
  },
  {
   "cell_type": "code",
   "execution_count": 7,
   "metadata": {
    "execution": {
     "iopub.execute_input": "2023-03-26T06:36:11.368229Z",
     "iopub.status.busy": "2023-03-26T06:36:11.368012Z",
     "iopub.status.idle": "2023-03-26T06:36:11.372168Z",
     "shell.execute_reply": "2023-03-26T06:36:11.371527Z"
    }
   },
   "outputs": [],
   "source": [
    "R = score['zscore'][score['diagnosis']=='ASD']\n",
    "R = onp.atleast_2d(R).T\n",
    "#print(R)"
   ]
  },
  {
   "cell_type": "code",
   "execution_count": 8,
   "metadata": {
    "execution": {
     "iopub.execute_input": "2023-03-26T06:36:11.375563Z",
     "iopub.status.busy": "2023-03-26T06:36:11.375335Z",
     "iopub.status.idle": "2023-03-26T06:42:16.241530Z",
     "shell.execute_reply": "2023-03-26T06:42:16.240560Z"
    }
   },
   "outputs": [
    {
     "name": "stdout",
     "output_type": "stream",
     "text": [
      "Step: 0               Log marginal lik.: -2903.68\n",
      "Step: 200             Log marginal lik.: 19581.49\n",
      "Step: 400             Log marginal lik.: 39306.37\n",
      "Step: 600             Log marginal lik.: 57798.46\n",
      "Step: 800             Log marginal lik.: 70476.08\n"
     ]
    }
   ],
   "source": [
    "# Instantiate model\n",
    "model = LinearContrastiveRegression()\n",
    "\n",
    "# Fit model\n",
    "d = 8 # dimension reduction\n",
    "model.fit(X, Y, R, d, seed = 50)\n",
    "\n",
    "# Make predictions on training data\n",
    "preds = model.predict(X)"
   ]
  },
  {
   "cell_type": "code",
   "execution_count": 9,
   "metadata": {
    "execution": {
     "iopub.execute_input": "2023-03-26T06:42:16.246246Z",
     "iopub.status.busy": "2023-03-26T06:42:16.246081Z",
     "iopub.status.idle": "2023-03-26T06:42:16.251450Z",
     "shell.execute_reply": "2023-03-26T06:42:16.250824Z"
    }
   },
   "outputs": [
    {
     "name": "stdout",
     "output_type": "stream",
     "text": [
      "0.8846726571922839\n"
     ]
    }
   ],
   "source": [
    "_, _, r2_contrastivereg, _, _ = linregress(R.squeeze(), preds)\n",
    "print(r2_contrastivereg)"
   ]
  },
  {
   "cell_type": "code",
   "execution_count": 10,
   "metadata": {
    "execution": {
     "iopub.execute_input": "2023-03-26T06:42:16.256530Z",
     "iopub.status.busy": "2023-03-26T06:42:16.256334Z",
     "iopub.status.idle": "2023-03-26T06:42:16.592408Z",
     "shell.execute_reply": "2023-03-26T06:42:16.591917Z"
    }
   },
   "outputs": [
    {
     "data": {
      "image/png": "[encoded data removed]",
      "text/plain": [
       "<Figure size 500x500 with 1 Axes>"
      ]
     },
     "metadata": {},
     "output_type": "display_data"
    }
   ],
   "source": [
    "plt.figure(figsize=(5, 5))\n",
    "plt.subplot()\n",
    "plt.scatter(R, preds, c=\"black\")\n",
    "plt.xlabel(r\"True $r$\")\n",
    "plt.ylabel(r\"Predicted $r$\")\n",
    "plt.title(r\"d = 5; top 1k HVGs; $R^2 = \" + str(round(r2_contrastivereg, 2)) + \"$\")\n",
    "\n",
    "plt.tight_layout()\n",
    "plt.show()"
   ]
  },
  {
   "cell_type": "code",
   "execution_count": 11,
   "metadata": {
    "execution": {
     "iopub.execute_input": "2023-03-26T06:42:16.597602Z",
     "iopub.status.busy": "2023-03-26T06:42:16.597432Z",
     "iopub.status.idle": "2023-03-26T06:42:16.602769Z",
     "shell.execute_reply": "2023-03-26T06:42:16.602080Z"
    }
   },
   "outputs": [],
   "source": [
    "# check latent factor t\n",
    "latent_t = onp.asarray(model.t)\n",
    "asd_sample = score['sample'][score['diagnosis']=='ASD'].to_list()\n",
    "dims = [\"Dim%d\" % i for i in range(1,9)]"
   ]
  },
  {
   "cell_type": "code",
   "execution_count": 12,
   "metadata": {
    "execution": {
     "iopub.execute_input": "2023-03-26T06:42:16.605762Z",
     "iopub.status.busy": "2023-03-26T06:42:16.605567Z",
     "iopub.status.idle": "2023-03-26T06:42:16.784637Z",
     "shell.execute_reply": "2023-03-26T06:42:16.784039Z"
    }
   },
   "outputs": [
    {
     "name": "stdout",
     "output_type": "stream",
     "text": [
      "      RP5-857K21.4  MTND1P23  MTND2P28  RP5-857K21.6  MTATP6P1     ACAP3  \\\n",
      "Dim1      0.007396  0.001292  0.050846      0.002466  0.029914  0.045361   \n",
      "Dim2     -0.007466  0.061121  0.007521      0.037499  0.215214  0.029721   \n",
      "Dim3     -0.010773  0.008954  0.068028      0.026719 -0.185318 -0.016017   \n",
      "Dim4      0.006451  0.027898 -0.032830      0.064432 -0.139675 -0.072727   \n",
      "Dim5      0.081590  0.074337  0.023578      0.126087  0.265312  0.102958   \n",
      "\n",
      "         GABRD      CHD5      ENO1    CLSTN1  ...  MAPK8IP2   TEKT4P2  \\\n",
      "Dim1  0.045174  0.062629  0.033882  0.168574  ...  0.019719 -0.012837   \n",
      "Dim2  0.087392  0.044979  0.092027  0.218494  ...  0.075403 -0.018914   \n",
      "Dim3 -0.029554 -0.059524 -0.030802 -0.088372  ... -0.017968 -0.074536   \n",
      "Dim4 -0.068749 -0.116623 -0.075207 -0.204780  ... -0.042033 -0.020701   \n",
      "Dim5  0.088931  0.207110  0.006364  0.273463  ...  0.057527  0.003166   \n",
      "\n",
      "      bP-21201H5.1  ANKRD20A11P  MIR99AHG     ATP5J       APP      SOD1  \\\n",
      "Dim1      0.081148     0.013541  0.263869  0.028104  0.252018  0.045152   \n",
      "Dim2      0.049681     0.006389  0.174708  0.065244  0.234990  0.077103   \n",
      "Dim3     -0.080496     0.020872 -0.312380 -0.016738 -0.211857 -0.039319   \n",
      "Dim4     -0.004558    -0.058172 -0.303426 -0.080512 -0.218017 -0.059651   \n",
      "Dim5      0.044885    -0.001564  0.151846 -0.062165  0.268173 -0.014316   \n",
      "\n",
      "          PCP4     SUMO3  \n",
      "Dim1  0.022516  0.009143  \n",
      "Dim2  0.052194  0.063370  \n",
      "Dim3 -0.000552 -0.026022  \n",
      "Dim4 -0.040432 -0.055386  \n",
      "Dim5 -0.007634  0.081681  \n",
      "\n",
      "[5 rows x 1000 columns]\n"
     ]
    }
   ],
   "source": [
    "loading_w = pd.DataFrame(model.W, columns = df.index.to_list(), index = dims,dtype = \"float\")\n",
    "pyreadr.write_rds(output_dir + 'seed50_W.rds', loading_w, compress=\"gzip\")\n",
    "print(loading_w.head())"
   ]
  },
  {
   "cell_type": "code",
   "execution_count": 13,
   "metadata": {
    "execution": {
     "iopub.execute_input": "2023-03-26T06:42:16.788654Z",
     "iopub.status.busy": "2023-03-26T06:42:16.788501Z",
     "iopub.status.idle": "2023-03-26T06:42:16.804809Z",
     "shell.execute_reply": "2023-03-26T06:42:16.804115Z"
    }
   },
   "outputs": [
    {
     "name": "stdout",
     "output_type": "stream",
     "text": [
      "              Dim1      Dim2      Dim3      Dim4      Dim5      Dim6  \\\n",
      "5144_PFC  1.575913  0.138727 -0.608633  0.376823 -0.512849 -0.069165   \n",
      "5278_PFC -0.246964 -0.021693 -0.166993 -0.134065 -0.539107 -0.253600   \n",
      "5294_BA9  0.255465 -0.304961 -0.198937  0.051205 -0.095669  0.047448   \n",
      "5403_PFC  0.473435  0.914429 -0.209951  0.635984 -0.003894 -1.367561   \n",
      "5419_PFC  0.335515 -0.039284  0.108743 -0.652836 -0.517059 -0.706653   \n",
      "\n",
      "              Dim7      Dim8  \n",
      "5144_PFC -0.677472  0.018107  \n",
      "5278_PFC -0.411744 -0.550633  \n",
      "5294_BA9  0.023040  0.200309  \n",
      "5403_PFC -0.110785 -0.140903  \n",
      "5419_PFC -0.874684  0.324621  \n"
     ]
    }
   ],
   "source": [
    "latent_t = pd.DataFrame(model.t, columns = dims, index = asd_sample, dtype=\"float\")\n",
    "pyreadr.write_rds(output_dir + 'seed50_t.rds', latent_t, compress=\"gzip\")\n",
    "print(latent_t.head())"
   ]
  },
  {
   "cell_type": "code",
   "execution_count": 14,
   "metadata": {
    "execution": {
     "iopub.execute_input": "2023-03-26T06:42:16.808729Z",
     "iopub.status.busy": "2023-03-26T06:42:16.808476Z",
     "iopub.status.idle": "2023-03-26T06:42:16.823439Z",
     "shell.execute_reply": "2023-03-26T06:42:16.822802Z"
    }
   },
   "outputs": [],
   "source": [
    "pyreadr.write_rds(output_dir + 'seed50_beta.rds', pd.DataFrame(data=model.beta), compress=\"gzip\")"
   ]
  },
  {
   "cell_type": "code",
   "execution_count": 15,
   "metadata": {
    "execution": {
     "iopub.execute_input": "2023-03-26T06:42:16.827096Z",
     "iopub.status.busy": "2023-03-26T06:42:16.826943Z",
     "iopub.status.idle": "2023-03-26T06:42:16.993981Z",
     "shell.execute_reply": "2023-03-26T06:42:16.993525Z"
    }
   },
   "outputs": [
    {
     "name": "stdout",
     "output_type": "stream",
     "text": [
      "<bound method NDFrame.head of       RP5-857K21.4  MTND1P23  MTND2P28  RP5-857K21.6  MTATP6P1     ACAP3  \\\n",
      "Dim1      0.043422 -0.140669  0.003390     -0.218189  0.163263  0.041045   \n",
      "Dim2     -0.010303  0.053918 -0.000594      0.060431 -0.046206 -0.009994   \n",
      "Dim3      0.073436 -0.046309  0.003751     -0.040838  0.172857  0.131038   \n",
      "Dim4     -0.043180  0.054936 -0.006413      0.096399 -0.110498 -0.081423   \n",
      "Dim5      0.044514 -0.137942  0.003870     -0.178676  0.152599  0.058960   \n",
      "Dim6     -0.044827  0.022002 -0.007029      0.029020 -0.125696 -0.051064   \n",
      "Dim7     -0.018703 -0.003135 -0.001593      0.016910 -0.090978 -0.062427   \n",
      "Dim8      0.018801  0.130474  0.001525      0.192764  0.095607  0.013586   \n",
      "\n",
      "         GABRD      CHD5      ENO1    CLSTN1  ...  MAPK8IP2   TEKT4P2  \\\n",
      "Dim1 -0.026067  0.030140 -0.014681 -0.139587  ...  0.003881  0.021900   \n",
      "Dim2  0.029971 -0.002332  0.033409  0.101058  ...  0.008594  0.035033   \n",
      "Dim3  0.050590  0.173965  0.016655  0.129257  ...  0.031209  0.005740   \n",
      "Dim4 -0.008046 -0.108294 -0.010375 -0.010556  ... -0.022399 -0.043811   \n",
      "Dim5  0.016243  0.085737  0.044358  0.081798  ...  0.022291  0.085694   \n",
      "Dim6 -0.033156 -0.090259 -0.026033 -0.128231  ... -0.025508 -0.035123   \n",
      "Dim7 -0.046203 -0.095305 -0.042619 -0.135069  ... -0.029789 -0.007669   \n",
      "Dim8  0.018196  0.042614  0.027598  0.120611  ...  0.009049  0.041215   \n",
      "\n",
      "      bP-21201H5.1  ANKRD20A11P  MIR99AHG     ATP5J       APP      SOD1  \\\n",
      "Dim1     -0.078492    -0.010186 -0.195181 -0.025038 -0.176980 -0.019594   \n",
      "Dim2      0.060249    -0.022026  0.219683  0.034933  0.185747  0.033322   \n",
      "Dim3      0.009606     0.025186  0.160423  0.012372  0.223479  0.036095   \n",
      "Dim4     -0.011690    -0.031252 -0.242343 -0.013265 -0.144223 -0.000294   \n",
      "Dim5      0.001411     0.042165  0.134678  0.047668  0.187488  0.065980   \n",
      "Dim6     -0.001176    -0.001759 -0.197666 -0.014622 -0.234176 -0.034524   \n",
      "Dim7     -0.015384    -0.006177 -0.174619 -0.051756 -0.217429 -0.088765   \n",
      "Dim8      0.066774    -0.015236  0.094275  0.033066  0.149222  0.049895   \n",
      "\n",
      "          PCP4     SUMO3  \n",
      "Dim1 -0.063026  0.004255  \n",
      "Dim2  0.044949  0.016027  \n",
      "Dim3  0.023699  0.032871  \n",
      "Dim4  0.002227 -0.015374  \n",
      "Dim5  0.005311  0.018571  \n",
      "Dim6 -0.008874 -0.026884  \n",
      "Dim7 -0.043819 -0.009640  \n",
      "Dim8  0.037426  0.013171  \n",
      "\n",
      "[8 rows x 1000 columns]>\n"
     ]
    }
   ],
   "source": [
    "auxiliary_s = pd.DataFrame(model.S, columns = df.index.to_list(), index = dims, dtype=\"float\")\n",
    "print(auxiliary_s.head)\n",
    "pyreadr.write_rds(output_dir + 'seed50_S.rds', auxiliary_s, compress=\"gzip\")"
   ]
  },
  {
   "cell_type": "code",
   "execution_count": 16,
   "metadata": {
    "execution": {
     "iopub.execute_input": "2023-03-26T06:42:16.998093Z",
     "iopub.status.busy": "2023-03-26T06:42:16.997872Z",
     "iopub.status.idle": "2023-03-26T06:42:17.014243Z",
     "shell.execute_reply": "2023-03-26T06:42:17.013585Z"
    }
   },
   "outputs": [
    {
     "name": "stdout",
     "output_type": "stream",
     "text": [
      "[ 0.17734481  0.25968614 -1.0707816  -0.11132038 -0.50167763 -0.5032521\n",
      "  0.86582905  0.4252514 ]\n",
      "Dimension with largest absolute value of beta: Dim3\n"
     ]
    }
   ],
   "source": [
    "## sort by absolute value of beta\n",
    "beta = onp.array(model.beta.T.flatten())\n",
    "print(beta)\n",
    "indices = onp.argsort(abs(beta))\n",
    "max_abs_beta_index = indices[-1] # start from 0\n",
    "target_dim = 'Dim' + str(max_abs_beta_index + 1)\n",
    "print('Dimension with largest absolute value of beta: ' + target_dim)"
   ]
  },
  {
   "cell_type": "code",
   "execution_count": 17,
   "metadata": {
    "execution": {
     "iopub.execute_input": "2023-03-26T06:42:17.018244Z",
     "iopub.status.busy": "2023-03-26T06:42:17.018093Z",
     "iopub.status.idle": "2023-03-26T06:42:17.050983Z",
     "shell.execute_reply": "2023-03-26T06:42:17.050364Z"
    }
   },
   "outputs": [
    {
     "data": {
      "text/html": [
       "<div>\n",
       "<style scoped>\n",
       "    .dataframe tbody tr th:only-of-type {\n",
       "        vertical-align: middle;\n",
       "    }\n",
       "\n",
       "    .dataframe tbody tr th {\n",
       "        vertical-align: top;\n",
       "    }\n",
       "\n",
       "    .dataframe thead th {\n",
       "        text-align: right;\n",
       "    }\n",
       "</style>\n",
       "<table border=\"1\" class=\"dataframe\">\n",
       "  <thead>\n",
       "    <tr style=\"text-align: right;\">\n",
       "      <th></th>\n",
       "      <th>Dim3</th>\n",
       "      <th>gene</th>\n",
       "      <th>rank</th>\n",
       "    </tr>\n",
       "  </thead>\n",
       "  <tbody>\n",
       "    <tr>\n",
       "      <th>ARL17B</th>\n",
       "      <td>0.119284</td>\n",
       "      <td>ARL17B</td>\n",
       "      <td>1</td>\n",
       "    </tr>\n",
       "    <tr>\n",
       "      <th>CTB-57H20.1</th>\n",
       "      <td>0.098815</td>\n",
       "      <td>CTB-57H20.1</td>\n",
       "      <td>2</td>\n",
       "    </tr>\n",
       "    <tr>\n",
       "      <th>RP11-864N7.2</th>\n",
       "      <td>0.092260</td>\n",
       "      <td>RP11-864N7.2</td>\n",
       "      <td>3</td>\n",
       "    </tr>\n",
       "    <tr>\n",
       "      <th>RP13-258O15.1</th>\n",
       "      <td>0.089394</td>\n",
       "      <td>RP13-258O15.1</td>\n",
       "      <td>4</td>\n",
       "    </tr>\n",
       "    <tr>\n",
       "      <th>P2RY14</th>\n",
       "      <td>0.075072</td>\n",
       "      <td>P2RY14</td>\n",
       "      <td>5</td>\n",
       "    </tr>\n",
       "    <tr>\n",
       "      <th>...</th>\n",
       "      <td>...</td>\n",
       "      <td>...</td>\n",
       "      <td>...</td>\n",
       "    </tr>\n",
       "    <tr>\n",
       "      <th>CADM2</th>\n",
       "      <td>-0.811763</td>\n",
       "      <td>CADM2</td>\n",
       "      <td>996</td>\n",
       "    </tr>\n",
       "    <tr>\n",
       "      <th>NRXN3</th>\n",
       "      <td>-0.829774</td>\n",
       "      <td>NRXN3</td>\n",
       "      <td>997</td>\n",
       "    </tr>\n",
       "    <tr>\n",
       "      <th>PTPRD</th>\n",
       "      <td>-0.929255</td>\n",
       "      <td>PTPRD</td>\n",
       "      <td>998</td>\n",
       "    </tr>\n",
       "    <tr>\n",
       "      <th>CNTNAP2</th>\n",
       "      <td>-0.938109</td>\n",
       "      <td>CNTNAP2</td>\n",
       "      <td>999</td>\n",
       "    </tr>\n",
       "    <tr>\n",
       "      <th>MALAT1</th>\n",
       "      <td>-1.844917</td>\n",
       "      <td>MALAT1</td>\n",
       "      <td>1000</td>\n",
       "    </tr>\n",
       "  </tbody>\n",
       "</table>\n",
       "<p>1000 rows × 3 columns</p>\n",
       "</div>"
      ],
      "text/plain": [
       "                   Dim3           gene  rank\n",
       "ARL17B         0.119284         ARL17B     1\n",
       "CTB-57H20.1    0.098815    CTB-57H20.1     2\n",
       "RP11-864N7.2   0.092260   RP11-864N7.2     3\n",
       "RP13-258O15.1  0.089394  RP13-258O15.1     4\n",
       "P2RY14         0.075072         P2RY14     5\n",
       "...                 ...            ...   ...\n",
       "CADM2         -0.811763          CADM2   996\n",
       "NRXN3         -0.829774          NRXN3   997\n",
       "PTPRD         -0.929255          PTPRD   998\n",
       "CNTNAP2       -0.938109        CNTNAP2   999\n",
       "MALAT1        -1.844917         MALAT1  1000\n",
       "\n",
       "[1000 rows x 3 columns]"
      ]
     },
     "execution_count": 17,
     "metadata": {},
     "output_type": "execute_result"
    }
   ],
   "source": [
    "## sort gene (w)\n",
    "w_d = loading_w.loc[[target_dim]].T\n",
    "w_d['gene'] = w_d.index.values.tolist()\n",
    "sorted_w_d = w_d.sort_values(by=target_dim, ascending=False)\n",
    "sorted_w_d['rank'] = list(range(1,w_d.shape[0]+1))\n",
    "sorted_w_d.to_csv(output_dir + 'seed50_gene_rank_max_abs_beta.csv', index = False)\n",
    "\n",
    "sorted_w_d"
   ]
  }
 ],
 "metadata": {
  "kernelspec": {
   "display_name": "Python 3 (ipykernel)",
   "language": "python",
   "name": "python3"
  },
  "language_info": {
   "codemirror_mode": {
    "name": "ipython",
    "version": 3
   },
   "file_extension": ".py",
   "mimetype": "text/x-python",
   "name": "python",
   "nbconvert_exporter": "python",
   "pygments_lexer": "ipython3",
   "version": "3.10.8"
  }
 },
 "nbformat": 4,
 "nbformat_minor": 2
}
