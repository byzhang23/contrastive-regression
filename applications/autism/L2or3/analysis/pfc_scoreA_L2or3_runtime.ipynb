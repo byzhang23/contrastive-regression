{
 "cells": [
  {
   "cell_type": "code",
   "execution_count": 1,
   "metadata": {
    "execution": {
     "iopub.execute_input": "2023-03-26T06:36:03.972339Z",
     "iopub.status.busy": "2023-03-26T06:36:03.971748Z",
     "iopub.status.idle": "2023-03-26T06:36:11.088511Z",
     "shell.execute_reply": "2023-03-26T06:36:11.086952Z"
    }
   },
   "outputs": [],
   "source": [
    "import pyreadr\n",
    "import numpy as onp\n",
    "import pandas as pd\n",
    "import matplotlib\n",
    "import matplotlib.pyplot as plt\n",
    "import jax.numpy as jnp\n",
    "from scipy.stats import linregress\n",
    "import time\n",
    "\n",
    "import sys\n",
    "import os\n",
    "# sys.path.append(\"../../../models\") # lab server\n",
    "sys.path.append(\"../../../contrastive-regression/models/\") # lab server\n",
    "# from linear_cr import LinearCR\n",
    "from linear_cr_new import LinearContrastiveRegression"
   ]
  },
  {
   "cell_type": "code",
   "execution_count": 2,
   "metadata": {
    "execution": {
     "iopub.execute_input": "2023-03-26T06:36:11.094966Z",
     "iopub.status.busy": "2023-03-26T06:36:11.094696Z",
     "iopub.status.idle": "2023-03-26T06:36:11.099686Z",
     "shell.execute_reply": "2023-03-26T06:36:11.098830Z"
    }
   },
   "outputs": [],
   "source": [
    "def return_indices_of_a(a, b):\n",
    "  b_set = set(b)\n",
    "  return [i for i, v in enumerate(a) if v in b_set]"
   ]
  },
  {
   "cell_type": "code",
   "execution_count": 3,
   "metadata": {
    "execution": {
     "iopub.execute_input": "2023-03-26T06:36:11.104569Z",
     "iopub.status.busy": "2023-03-26T06:36:11.104269Z",
     "iopub.status.idle": "2023-03-26T06:36:11.295983Z",
     "shell.execute_reply": "2023-03-26T06:36:11.295361Z"
    }
   },
   "outputs": [
    {
     "name": "stdout",
     "output_type": "stream",
     "text": [
      "(1000, 41)\n"
     ]
    }
   ],
   "source": [
    "ct = 'L2or3'\n",
    "df = pyreadr.read_r('../pb/'+ ct + '.rds')[None]\n",
    "hvg = pyreadr.read_r('../hvg1k/'+ ct +'.rds')[None]\n",
    "input1 = df.index.values.tolist()\n",
    "input2 = hvg[None].to_list()\n",
    "match_id = return_indices_of_a(input1,input2)\n",
    "# print(len(match_id))\n",
    "df = df.iloc[match_id]\n",
    "print(df.shape)"
   ]
  },
  {
   "cell_type": "code",
   "execution_count": 4,
   "metadata": {
    "execution": {
     "iopub.execute_input": "2023-03-26T06:36:11.334337Z",
     "iopub.status.busy": "2023-03-26T06:36:11.333976Z",
     "iopub.status.idle": "2023-03-26T06:36:11.347010Z",
     "shell.execute_reply": "2023-03-26T06:36:11.346217Z"
    }
   },
   "outputs": [
    {
     "name": "stdout",
     "output_type": "stream",
     "text": [
      "(20, 5)\n"
     ]
    }
   ],
   "source": [
    "score_type = 'scoreA'\n",
    "output_dir = './' + score_type + '/'\n",
    "if not os.path.exists(output_dir):\n",
    "   os.makedirs(output_dir)\n",
    "\n",
    "score = pyreadr.read_r('../'+ score_type + '_pfc.rds')[None]\n",
    "print(score.shape)"
   ]
  },
  {
   "cell_type": "code",
   "execution_count": 5,
   "metadata": {
    "execution": {
     "iopub.execute_input": "2023-03-26T06:36:11.350323Z",
     "iopub.status.busy": "2023-03-26T06:36:11.350125Z",
     "iopub.status.idle": "2023-03-26T06:36:11.355801Z",
     "shell.execute_reply": "2023-03-26T06:36:11.355230Z"
    }
   },
   "outputs": [
    {
     "name": "stdout",
     "output_type": "stream",
     "text": [
      "<class 'numpy.ndarray'>\n",
      "(10, 1000)\n"
     ]
    }
   ],
   "source": [
    "X = df[score['sample'][score['diagnosis']=='ASD'].to_list()].to_numpy().T\n",
    "print(type(X))\n",
    "print(X.shape)"
   ]
  },
  {
   "cell_type": "code",
   "execution_count": 6,
   "metadata": {
    "execution": {
     "iopub.execute_input": "2023-03-26T06:36:11.359323Z",
     "iopub.status.busy": "2023-03-26T06:36:11.359094Z",
     "iopub.status.idle": "2023-03-26T06:36:11.365111Z",
     "shell.execute_reply": "2023-03-26T06:36:11.364405Z"
    }
   },
   "outputs": [
    {
     "name": "stdout",
     "output_type": "stream",
     "text": [
      "<class 'numpy.ndarray'>\n",
      "(10, 1000)\n"
     ]
    }
   ],
   "source": [
    "# A = df[score['sample'][score['diagnosis']=='ASD'].to_list()]\n",
    "# print(list(A) == score['sample'][score['diagnosis']=='ASD'].to_list())\n",
    "Y = df[score['sample'][score['diagnosis']=='Control'].to_list()].to_numpy().T\n",
    "print(type(Y))\n",
    "print(Y.shape)"
   ]
  },
  {
   "cell_type": "code",
   "execution_count": 7,
   "metadata": {
    "execution": {
     "iopub.execute_input": "2023-03-26T06:36:11.368229Z",
     "iopub.status.busy": "2023-03-26T06:36:11.368012Z",
     "iopub.status.idle": "2023-03-26T06:36:11.372168Z",
     "shell.execute_reply": "2023-03-26T06:36:11.371527Z"
    }
   },
   "outputs": [],
   "source": [
    "R = score['zscore'][score['diagnosis']=='ASD']\n",
    "R = onp.atleast_2d(R).T\n",
    "#print(R)"
   ]
  },
  {
   "cell_type": "code",
   "execution_count": 8,
   "metadata": {
    "execution": {
     "iopub.execute_input": "2023-03-26T06:36:11.375563Z",
     "iopub.status.busy": "2023-03-26T06:36:11.375335Z",
     "iopub.status.idle": "2023-03-26T06:42:16.241530Z",
     "shell.execute_reply": "2023-03-26T06:42:16.240560Z"
    }
   },
   "outputs": [
    {
     "name": "stdout",
     "output_type": "stream",
     "text": [
      "Step: 0               Log marginal lik.: -2216.19\n",
      "Step: 200             Log marginal lik.: 20488.7\n",
      "Step: 400             Log marginal lik.: 40209.67\n",
      "Step: 600             Log marginal lik.: 58594.05\n",
      "Step: 800             Log marginal lik.: 70765.83\n",
      "Step: 1000            Log marginal lik.: 73100.78\n",
      "Step: 1200            Log marginal lik.: 73167.41\n",
      "Step: 1400            Log marginal lik.: 73214.52\n",
      "Step: 1600            Log marginal lik.: 73154.06\n",
      "Step: 1800            Log marginal lik.: 73252.72\n",
      "Step: 2000            Log marginal lik.: 73178.45\n",
      "Step: 2200            Log marginal lik.: 73208.03\n",
      "Step: 2400            Log marginal lik.: 73267.62\n",
      "Step: 2600            Log marginal lik.: 73158.12\n",
      "Step: 2800            Log marginal lik.: 73082.06\n",
      "Step: 3000            Log marginal lik.: 73194.69\n",
      "Step: 3200            Log marginal lik.: 73139.65\n",
      "Step: 3400            Log marginal lik.: 73145.08\n",
      "Step: 3600            Log marginal lik.: 73167.28\n"
     ]
    }
   ],
   "source": [
    "# Instantiate model\n",
    "model = LinearContrastiveRegression()\n",
    "\n",
    "# Fit model\n",
    "d = 8 # dimension reduction\n",
    "start = time.time()\n",
    "model.fit(X, Y, R, d, seed = 10)\n",
    "end = time.time()\n",
    "\n",
    "# Make predictions on training data\n",
    "preds = model.predict(X)"
   ]
  },
  {
   "cell_type": "code",
   "execution_count": 9,
   "metadata": {},
   "outputs": [
    {
     "data": {
      "text/plain": [
       "842.5425131320953"
      ]
     },
     "execution_count": 9,
     "metadata": {},
     "output_type": "execute_result"
    }
   ],
   "source": [
    "# runtime\n",
    "runtime = end - start\n",
    "runtime"
   ]
  },
  {
   "cell_type": "code",
   "execution_count": 10,
   "metadata": {
    "execution": {
     "iopub.execute_input": "2023-03-26T06:42:16.246246Z",
     "iopub.status.busy": "2023-03-26T06:42:16.246081Z",
     "iopub.status.idle": "2023-03-26T06:42:16.251450Z",
     "shell.execute_reply": "2023-03-26T06:42:16.250824Z"
    }
   },
   "outputs": [
    {
     "name": "stdout",
     "output_type": "stream",
     "text": [
      "0.8932320691934508\n"
     ]
    }
   ],
   "source": [
    "_, _, r2_contrastivereg, _, _ = linregress(R.squeeze(), preds)\n",
    "print(r2_contrastivereg)"
   ]
  }
 ],
 "metadata": {
  "kernelspec": {
   "display_name": "Python 3 (ipykernel)",
   "language": "python",
   "name": "python3"
  },
  "language_info": {
   "codemirror_mode": {
    "name": "ipython",
    "version": 3
   },
   "file_extension": ".py",
   "mimetype": "text/x-python",
   "name": "python",
   "nbconvert_exporter": "python",
   "pygments_lexer": "ipython3",
   "version": "3.10.8"
  }
 },
 "nbformat": 4,
 "nbformat_minor": 2
}
