{
 "cells": [
  {
   "cell_type": "code",
   "execution_count": 1,
   "metadata": {
    "execution": {
     "iopub.execute_input": "2023-03-26T06:36:03.972339Z",
     "iopub.status.busy": "2023-03-26T06:36:03.971748Z",
     "iopub.status.idle": "2023-03-26T06:36:11.088511Z",
     "shell.execute_reply": "2023-03-26T06:36:11.086952Z"
    }
   },
   "outputs": [],
   "source": [
    "import pyreadr\n",
    "import numpy as onp\n",
    "import pandas as pd\n",
    "import matplotlib\n",
    "import matplotlib.pyplot as plt\n",
    "import jax.numpy as jnp\n",
    "from scipy.stats import linregress\n",
    "\n",
    "import sys\n",
    "import os\n",
    "# sys.path.append(\"../../../models\") # lab server\n",
    "sys.path.append(\"../../../contrastive-regression/models/\") # lab server\n",
    "# from linear_cr import LinearCR\n",
    "from linear_cr_bz import LinearCRBZ"
   ]
  },
  {
   "cell_type": "code",
   "execution_count": 2,
   "metadata": {
    "execution": {
     "iopub.execute_input": "2023-03-26T06:36:11.094966Z",
     "iopub.status.busy": "2023-03-26T06:36:11.094696Z",
     "iopub.status.idle": "2023-03-26T06:36:11.099686Z",
     "shell.execute_reply": "2023-03-26T06:36:11.098830Z"
    }
   },
   "outputs": [],
   "source": [
    "def return_indices_of_a(a, b):\n",
    "  b_set = set(b)\n",
    "  return [i for i, v in enumerate(a) if v in b_set]"
   ]
  },
  {
   "cell_type": "code",
   "execution_count": 3,
   "metadata": {
    "execution": {
     "iopub.execute_input": "2023-03-26T06:36:11.104569Z",
     "iopub.status.busy": "2023-03-26T06:36:11.104269Z",
     "iopub.status.idle": "2023-03-26T06:36:11.295983Z",
     "shell.execute_reply": "2023-03-26T06:36:11.295361Z"
    }
   },
   "outputs": [
    {
     "name": "stdout",
     "output_type": "stream",
     "text": [
      "(1000, 41)\n"
     ]
    }
   ],
   "source": [
    "ct = 'L2or3'\n",
    "df = pyreadr.read_r('../pb/'+ ct + '.rds')[None]\n",
    "hvg = pyreadr.read_r('../hvg1k/'+ ct +'.rds')[None]\n",
    "input1 = df.index.values.tolist()\n",
    "input2 = hvg[None].to_list()\n",
    "match_id = return_indices_of_a(input1,input2)\n",
    "# print(len(match_id))\n",
    "df = df.iloc[match_id]\n",
    "print(df.shape)"
   ]
  },
  {
   "cell_type": "code",
   "execution_count": 4,
   "metadata": {
    "execution": {
     "iopub.execute_input": "2023-03-26T06:36:11.334337Z",
     "iopub.status.busy": "2023-03-26T06:36:11.333976Z",
     "iopub.status.idle": "2023-03-26T06:36:11.347010Z",
     "shell.execute_reply": "2023-03-26T06:36:11.346217Z"
    }
   },
   "outputs": [],
   "source": [
    "score_type = 'scoreA'\n",
    "output_dir = './' + score_type + '_rm_outlier/'\n",
    "if not os.path.exists(output_dir):\n",
    "   os.makedirs(output_dir)"
   ]
  },
  {
   "cell_type": "code",
   "execution_count": 5,
   "metadata": {
    "execution": {
     "iopub.execute_input": "2023-03-26T06:36:11.334337Z",
     "iopub.status.busy": "2023-03-26T06:36:11.333976Z",
     "iopub.status.idle": "2023-03-26T06:36:11.347010Z",
     "shell.execute_reply": "2023-03-26T06:36:11.346217Z"
    }
   },
   "outputs": [
    {
     "name": "stdout",
     "output_type": "stream",
     "text": [
      "           sample  individual diagnosis ADIR.A    zscore\n",
      "0        5144_PFC      5144.0       ASD     28  0.801567\n",
      "1        5278_PFC      5278.0       ASD     22 -0.243955\n",
      "2        5294_BA9      5294.0       ASD     17 -1.115224\n",
      "3        5403_PFC      5403.0       ASD     30  1.150075\n",
      "4        5419_PFC      5419.0       ASD     24  0.104552\n",
      "5        5565_BA9      5565.0       ASD     27  0.627314\n",
      "6        5864_BA9      5864.0       ASD     18 -0.940970\n",
      "7        5939_BA9      5939.0       ASD     29  0.975821\n",
      "10      4341_BA46      4341.0   Control    NaN       NaN\n",
      "11       5387_BA9      5387.0   Control    NaN       NaN\n",
      "12  5408_PFC_Nova      5408.0   Control    NaN       NaN\n",
      "13  5538_PFC_Nova      5538.0   Control    NaN       NaN\n",
      "14       5577_BA9      5577.0   Control    NaN       NaN\n",
      "15  5879_PFC_Nova      5879.0   Control    NaN       NaN\n",
      "16       5893_PFC      5893.0   Control    NaN       NaN\n",
      "17  5936_PFC_Nova      5936.0   Control    NaN       NaN\n",
      "18       5958_BA9      5958.0   Control    NaN       NaN\n"
     ]
    }
   ],
   "source": [
    "score = pyreadr.read_r('../'+ score_type + '_pfc.rds')[None]\n",
    "# remove 3 outliers\n",
    "score = score.loc[((score['sample'] != '5976_BA9') & (score['sample'] != '5978_BA9') & (score['sample'] != '6033_BA9')),:]# & score['sample'] != '5978_BA9' & score['sample'] != '6033_BA9']\n",
    "print(score)"
   ]
  },
  {
   "cell_type": "code",
   "execution_count": 6,
   "metadata": {
    "execution": {
     "iopub.execute_input": "2023-03-26T06:36:11.350323Z",
     "iopub.status.busy": "2023-03-26T06:36:11.350125Z",
     "iopub.status.idle": "2023-03-26T06:36:11.355801Z",
     "shell.execute_reply": "2023-03-26T06:36:11.355230Z"
    }
   },
   "outputs": [
    {
     "name": "stdout",
     "output_type": "stream",
     "text": [
      "<class 'numpy.ndarray'>\n",
      "(8, 1000)\n"
     ]
    }
   ],
   "source": [
    "X = df[score['sample'][score['diagnosis']=='ASD'].to_list()].to_numpy().T\n",
    "print(type(X))\n",
    "print(X.shape)"
   ]
  },
  {
   "cell_type": "code",
   "execution_count": 7,
   "metadata": {
    "execution": {
     "iopub.execute_input": "2023-03-26T06:36:11.359323Z",
     "iopub.status.busy": "2023-03-26T06:36:11.359094Z",
     "iopub.status.idle": "2023-03-26T06:36:11.365111Z",
     "shell.execute_reply": "2023-03-26T06:36:11.364405Z"
    }
   },
   "outputs": [
    {
     "name": "stdout",
     "output_type": "stream",
     "text": [
      "<class 'numpy.ndarray'>\n",
      "(9, 1000)\n"
     ]
    }
   ],
   "source": [
    "# A = df[score['sample'][score['diagnosis']=='ASD'].to_list()]\n",
    "# print(list(A) == score['sample'][score['diagnosis']=='ASD'].to_list())\n",
    "Y = df[score['sample'][score['diagnosis']=='Control'].to_list()].to_numpy().T\n",
    "print(type(Y))\n",
    "print(Y.shape)"
   ]
  },
  {
   "cell_type": "code",
   "execution_count": 8,
   "metadata": {
    "execution": {
     "iopub.execute_input": "2023-03-26T06:36:11.368229Z",
     "iopub.status.busy": "2023-03-26T06:36:11.368012Z",
     "iopub.status.idle": "2023-03-26T06:36:11.372168Z",
     "shell.execute_reply": "2023-03-26T06:36:11.371527Z"
    }
   },
   "outputs": [],
   "source": [
    "R = score['zscore'][score['diagnosis']=='ASD']\n",
    "R = onp.atleast_2d(R).T\n",
    "#print(R)"
   ]
  },
  {
   "cell_type": "code",
   "execution_count": 9,
   "metadata": {
    "execution": {
     "iopub.execute_input": "2023-03-26T06:36:11.375563Z",
     "iopub.status.busy": "2023-03-26T06:36:11.375335Z",
     "iopub.status.idle": "2023-03-26T06:42:16.241530Z",
     "shell.execute_reply": "2023-03-26T06:42:16.240560Z"
    }
   },
   "outputs": [
    {
     "name": "stdout",
     "output_type": "stream",
     "text": [
      "Step: 0               Log marginal lik.: -3218.26\n",
      "Step: 200             Log marginal lik.: 15589.45\n",
      "Step: 400             Log marginal lik.: 32318.6\n",
      "Step: 600             Log marginal lik.: 47411.41\n",
      "Step: 800             Log marginal lik.: 55681.46\n",
      "Step: 1000            Log marginal lik.: 56629.84\n",
      "Step: 1200            Log marginal lik.: 56623.5\n",
      "Step: 1400            Log marginal lik.: 56652.34\n",
      "Step: 1600            Log marginal lik.: 56653.11\n",
      "Step: 1800            Log marginal lik.: 56648.03\n",
      "Step: 2000            Log marginal lik.: 56609.05\n",
      "Step: 2200            Log marginal lik.: 56650.09\n",
      "Step: 2400            Log marginal lik.: 56674.74\n",
      "Step: 2600            Log marginal lik.: 56611.34\n",
      "Step: 2800            Log marginal lik.: 56619.33\n",
      "Step: 3000            Log marginal lik.: 56611.31\n",
      "Step: 3200            Log marginal lik.: 56655.25\n",
      "Step: 3400            Log marginal lik.: 56628.87\n"
     ]
    }
   ],
   "source": [
    "# Instantiate model\n",
    "model = LinearCRBZ()\n",
    "\n",
    "# Fit model\n",
    "d = 6 # dimension reduction (same as remove outlier)\n",
    "model.fit(X, Y, R, d, seed = 1)\n",
    "\n",
    "# Make predictions on training data\n",
    "preds = model.predict(X)"
   ]
  },
  {
   "cell_type": "code",
   "execution_count": 10,
   "metadata": {
    "execution": {
     "iopub.execute_input": "2023-03-26T06:42:16.246246Z",
     "iopub.status.busy": "2023-03-26T06:42:16.246081Z",
     "iopub.status.idle": "2023-03-26T06:42:16.251450Z",
     "shell.execute_reply": "2023-03-26T06:42:16.250824Z"
    }
   },
   "outputs": [
    {
     "name": "stdout",
     "output_type": "stream",
     "text": [
      "0.8929855004100817\n"
     ]
    }
   ],
   "source": [
    "_, _, r2_contrastivereg, _, _ = linregress(R.squeeze(), preds)\n",
    "print(r2_contrastivereg)"
   ]
  },
  {
   "cell_type": "code",
   "execution_count": 11,
   "metadata": {
    "execution": {
     "iopub.execute_input": "2023-03-26T06:42:16.256530Z",
     "iopub.status.busy": "2023-03-26T06:42:16.256334Z",
     "iopub.status.idle": "2023-03-26T06:42:16.592408Z",
     "shell.execute_reply": "2023-03-26T06:42:16.591917Z"
    }
   },
   "outputs": [
    {
     "data": {
      "image/png": "[encoded data removed]",
      "text/plain": [
       "<Figure size 500x500 with 1 Axes>"
      ]
     },
     "metadata": {},
     "output_type": "display_data"
    }
   ],
   "source": [
    "plt.figure(figsize=(5, 5))\n",
    "plt.subplot()\n",
    "plt.scatter(R, preds, c=\"black\")\n",
    "plt.xlabel(r\"True $r$\")\n",
    "plt.ylabel(r\"Predicted $r$\")\n",
    "plt.title(r\"d = 6; top 1k HVGs; $R^2 = \" + str(round(r2_contrastivereg, 2)) + \"$\")\n",
    "\n",
    "plt.tight_layout()\n",
    "plt.show()"
   ]
  },
  {
   "cell_type": "code",
   "execution_count": 12,
   "metadata": {
    "execution": {
     "iopub.execute_input": "2023-03-26T06:42:16.597602Z",
     "iopub.status.busy": "2023-03-26T06:42:16.597432Z",
     "iopub.status.idle": "2023-03-26T06:42:16.602769Z",
     "shell.execute_reply": "2023-03-26T06:42:16.602080Z"
    }
   },
   "outputs": [],
   "source": [
    "# check latent factor t\n",
    "latent_t = onp.asarray(model.t)\n",
    "asd_sample = score['sample'][score['diagnosis']=='ASD'].to_list()\n",
    "dims = [\"Dim%d\" % i for i in range(1,7)]"
   ]
  },
  {
   "cell_type": "code",
   "execution_count": 13,
   "metadata": {
    "execution": {
     "iopub.execute_input": "2023-03-26T06:42:16.605762Z",
     "iopub.status.busy": "2023-03-26T06:42:16.605567Z",
     "iopub.status.idle": "2023-03-26T06:42:16.784637Z",
     "shell.execute_reply": "2023-03-26T06:42:16.784039Z"
    }
   },
   "outputs": [
    {
     "name": "stdout",
     "output_type": "stream",
     "text": [
      "      RP5-857K21.4  MTND1P23  MTND2P28  RP5-857K21.6  MTATP6P1     ACAP3  \\\n",
      "Dim1     -0.023938  0.007385  0.013372      0.018583 -0.086362  0.002980   \n",
      "Dim2     -0.043518  0.015074  0.034632      0.032660 -0.239439 -0.008662   \n",
      "Dim3     -0.038263  0.001640 -0.104655      0.012623 -0.145319 -0.056473   \n",
      "Dim4      0.018880 -0.012870  0.049350     -0.010852  0.071785  0.069588   \n",
      "Dim5      0.042170 -0.003501 -0.001262     -0.018426  0.268156  0.091160   \n",
      "\n",
      "         GABRD      CHD5      ENO1    CLSTN1  ...  MAPK8IP2   TEKT4P2  \\\n",
      "Dim1  0.004892  0.000667 -0.027411 -0.067798  ... -0.001487 -0.017587   \n",
      "Dim2  0.016031 -0.033285 -0.013463 -0.053480  ...  0.004182 -0.059156   \n",
      "Dim3 -0.032969 -0.050242 -0.012258 -0.142880  ... -0.017244  0.008192   \n",
      "Dim4  0.032351  0.133454  0.035504  0.149599  ...  0.010501  0.014199   \n",
      "Dim5  0.078616  0.161522  0.026252  0.219398  ...  0.043317  0.029512   \n",
      "\n",
      "      bP-21201H5.1  ANKRD20A11P  MIR99AHG     ATP5J       APP      SOD1  \\\n",
      "Dim1     -0.073131     0.004424 -0.214577 -0.049499 -0.183363 -0.057784   \n",
      "Dim2     -0.060679    -0.005633 -0.255319 -0.056179 -0.164265 -0.042329   \n",
      "Dim3     -0.050997     0.015388 -0.216848 -0.027622 -0.234251 -0.023544   \n",
      "Dim4      0.056245     0.002626  0.320150  0.052169  0.152898  0.053932   \n",
      "Dim5      0.075713     0.001965  0.385669 -0.008063  0.324943  0.017144   \n",
      "\n",
      "          PCP4     SUMO3  \n",
      "Dim1 -0.029889  0.004614  \n",
      "Dim2 -0.035494  0.001463  \n",
      "Dim3 -0.022734 -0.004310  \n",
      "Dim4 -0.002648  0.023542  \n",
      "Dim5  0.000037  0.060229  \n",
      "\n",
      "[5 rows x 1000 columns]\n"
     ]
    }
   ],
   "source": [
    "loading_w = pd.DataFrame(model.W, columns = df.index.to_list(), index = dims,dtype = \"float\")\n",
    "pyreadr.write_rds(output_dir + 'W.rds', loading_w, compress=\"gzip\")\n",
    "print(loading_w.head())"
   ]
  },
  {
   "cell_type": "code",
   "execution_count": 14,
   "metadata": {
    "execution": {
     "iopub.execute_input": "2023-03-26T06:42:16.788654Z",
     "iopub.status.busy": "2023-03-26T06:42:16.788501Z",
     "iopub.status.idle": "2023-03-26T06:42:16.804809Z",
     "shell.execute_reply": "2023-03-26T06:42:16.804115Z"
    }
   },
   "outputs": [
    {
     "name": "stdout",
     "output_type": "stream",
     "text": [
      "              Dim1      Dim2      Dim3      Dim4      Dim5      Dim6\n",
      "5144_PFC -1.846644  0.380000 -0.039799  0.340938  0.140145 -0.301232\n",
      "5278_PFC  0.018496 -0.895716  0.075801  0.215184 -0.533820 -0.243203\n",
      "5294_BA9 -0.126005 -0.073455  0.005161  0.140496  0.027273  0.386996\n",
      "5403_PFC -0.633012 -0.480815 -0.765001 -1.168632  0.812485 -0.446884\n",
      "5419_PFC  0.206631 -1.157362  0.016519  0.249306 -0.539857 -1.685230\n"
     ]
    }
   ],
   "source": [
    "latent_t = pd.DataFrame(model.t, columns = dims, index = asd_sample, dtype=\"float\")\n",
    "pyreadr.write_rds(output_dir + 't.rds', latent_t, compress=\"gzip\")\n",
    "print(latent_t.head())"
   ]
  },
  {
   "cell_type": "code",
   "execution_count": 15,
   "metadata": {
    "execution": {
     "iopub.execute_input": "2023-03-26T06:42:16.808729Z",
     "iopub.status.busy": "2023-03-26T06:42:16.808476Z",
     "iopub.status.idle": "2023-03-26T06:42:16.823439Z",
     "shell.execute_reply": "2023-03-26T06:42:16.822802Z"
    }
   },
   "outputs": [],
   "source": [
    "pyreadr.write_rds(output_dir + 'beta.rds', pd.DataFrame(data=model.beta), compress=\"gzip\")"
   ]
  },
  {
   "cell_type": "code",
   "execution_count": 16,
   "metadata": {
    "execution": {
     "iopub.execute_input": "2023-03-26T06:42:16.827096Z",
     "iopub.status.busy": "2023-03-26T06:42:16.826943Z",
     "iopub.status.idle": "2023-03-26T06:42:16.993981Z",
     "shell.execute_reply": "2023-03-26T06:42:16.993525Z"
    }
   },
   "outputs": [
    {
     "name": "stdout",
     "output_type": "stream",
     "text": [
      "<bound method NDFrame.head of       RP5-857K21.4  MTND1P23  MTND2P28  RP5-857K21.6  MTATP6P1     ACAP3  \\\n",
      "Dim1      0.011897  0.063232  0.003610      0.093557  0.065517 -0.001477   \n",
      "Dim2      0.024272  0.019253  0.003910      0.047116  0.039399  0.048183   \n",
      "Dim3     -0.025172 -0.012283  0.000564      0.008658 -0.068566 -0.068087   \n",
      "Dim4      0.001835  0.024270 -0.003212      0.034491  0.031687 -0.003227   \n",
      "Dim5      0.009569  0.058829  0.000744      0.082990 -0.001157  0.044527   \n",
      "Dim6     -0.025184  0.025502 -0.002632      0.033267 -0.092790 -0.056096   \n",
      "\n",
      "         GABRD      CHD5      ENO1    CLSTN1  ...  MAPK8IP2   TEKT4P2  \\\n",
      "Dim1  0.020542  0.025367  0.033125  0.120903  ...  0.012595  0.052965   \n",
      "Dim2  0.046383  0.083174  0.018062  0.157233  ...  0.021591 -0.009758   \n",
      "Dim3 -0.050369 -0.098337 -0.037516 -0.132585  ... -0.027983 -0.012131   \n",
      "Dim4 -0.014754 -0.018287 -0.021889 -0.073865  ... -0.009295 -0.032631   \n",
      "Dim5  0.017842  0.065691  0.011599  0.067344  ...  0.010473  0.018365   \n",
      "Dim6 -0.037022 -0.087923 -0.047463 -0.140665  ... -0.024178 -0.043722   \n",
      "\n",
      "      bP-21201H5.1  ANKRD20A11P  MIR99AHG     ATP5J       APP      SOD1  \\\n",
      "Dim1      0.052816    -0.006649  0.159468  0.034085  0.187034  0.044612   \n",
      "Dim2      0.020987     0.011475  0.192895  0.013669  0.236938  0.031508   \n",
      "Dim3     -0.027560     0.002655 -0.236176 -0.041648 -0.243092 -0.065355   \n",
      "Dim4     -0.021014    -0.023590 -0.214380 -0.024041 -0.176366 -0.019907   \n",
      "Dim5      0.062357     0.026016  0.233325  0.023868  0.161319  0.009783   \n",
      "Dim6     -0.031298    -0.022620 -0.180611 -0.057404 -0.234745 -0.086198   \n",
      "\n",
      "          PCP4     SUMO3  \n",
      "Dim1  0.029050  0.014776  \n",
      "Dim2  0.032709  0.019707  \n",
      "Dim3 -0.045342 -0.019618  \n",
      "Dim4 -0.016649 -0.007035  \n",
      "Dim5  0.035406  0.007194  \n",
      "Dim6 -0.039699 -0.015419  \n",
      "\n",
      "[6 rows x 1000 columns]>\n"
     ]
    }
   ],
   "source": [
    "auxiliary_s = pd.DataFrame(model.S, columns = df.index.to_list(), index = dims, dtype=\"float\")\n",
    "print(auxiliary_s.head)\n",
    "pyreadr.write_rds(output_dir + 'S.rds', auxiliary_s, compress=\"gzip\")"
   ]
  },
  {
   "cell_type": "code",
   "execution_count": 17,
   "metadata": {
    "execution": {
     "iopub.execute_input": "2023-03-26T06:42:16.998093Z",
     "iopub.status.busy": "2023-03-26T06:42:16.997872Z",
     "iopub.status.idle": "2023-03-26T06:42:17.014243Z",
     "shell.execute_reply": "2023-03-26T06:42:17.013585Z"
    }
   },
   "outputs": [
    {
     "name": "stdout",
     "output_type": "stream",
     "text": [
      "[-0.43556386 -0.3346442   0.414678   -0.36597115  0.65105015 -0.16592371]\n",
      "Dimension with largest absolute value of beta: Dim5\n"
     ]
    }
   ],
   "source": [
    "## sort by absolute value of beta\n",
    "beta = onp.array(model.beta.T.flatten())\n",
    "print(beta)\n",
    "indices = onp.argsort(abs(beta))\n",
    "max_abs_beta_index = indices[-1] # start from 0\n",
    "target_dim = 'Dim' + str(max_abs_beta_index + 1)\n",
    "print('Dimension with largest absolute value of beta: ' + target_dim)"
   ]
  },
  {
   "cell_type": "code",
   "execution_count": 18,
   "metadata": {
    "execution": {
     "iopub.execute_input": "2023-03-26T06:42:17.018244Z",
     "iopub.status.busy": "2023-03-26T06:42:17.018093Z",
     "iopub.status.idle": "2023-03-26T06:42:17.050983Z",
     "shell.execute_reply": "2023-03-26T06:42:17.050364Z"
    }
   },
   "outputs": [
    {
     "data": {
      "text/html": [
       "<div>\n",
       "<style scoped>\n",
       "    .dataframe tbody tr th:only-of-type {\n",
       "        vertical-align: middle;\n",
       "    }\n",
       "\n",
       "    .dataframe tbody tr th {\n",
       "        vertical-align: top;\n",
       "    }\n",
       "\n",
       "    .dataframe thead th {\n",
       "        text-align: right;\n",
       "    }\n",
       "</style>\n",
       "<table border=\"1\" class=\"dataframe\">\n",
       "  <thead>\n",
       "    <tr style=\"text-align: right;\">\n",
       "      <th></th>\n",
       "      <th>Dim5</th>\n",
       "      <th>gene</th>\n",
       "      <th>rank</th>\n",
       "    </tr>\n",
       "  </thead>\n",
       "  <tbody>\n",
       "    <tr>\n",
       "      <th>MALAT1</th>\n",
       "      <td>1.443173</td>\n",
       "      <td>MALAT1</td>\n",
       "      <td>1</td>\n",
       "    </tr>\n",
       "    <tr>\n",
       "      <th>PTPRD</th>\n",
       "      <td>1.205843</td>\n",
       "      <td>PTPRD</td>\n",
       "      <td>2</td>\n",
       "    </tr>\n",
       "    <tr>\n",
       "      <th>PCDH9</th>\n",
       "      <td>1.183866</td>\n",
       "      <td>PCDH9</td>\n",
       "      <td>3</td>\n",
       "    </tr>\n",
       "    <tr>\n",
       "      <th>CNTNAP2</th>\n",
       "      <td>1.147521</td>\n",
       "      <td>CNTNAP2</td>\n",
       "      <td>4</td>\n",
       "    </tr>\n",
       "    <tr>\n",
       "      <th>CADM2</th>\n",
       "      <td>1.142459</td>\n",
       "      <td>CADM2</td>\n",
       "      <td>5</td>\n",
       "    </tr>\n",
       "    <tr>\n",
       "      <th>...</th>\n",
       "      <td>...</td>\n",
       "      <td>...</td>\n",
       "      <td>...</td>\n",
       "    </tr>\n",
       "    <tr>\n",
       "      <th>CTB-57H20.1</th>\n",
       "      <td>-0.047618</td>\n",
       "      <td>CTB-57H20.1</td>\n",
       "      <td>996</td>\n",
       "    </tr>\n",
       "    <tr>\n",
       "      <th>RP11-160H12.2</th>\n",
       "      <td>-0.057540</td>\n",
       "      <td>RP11-160H12.2</td>\n",
       "      <td>997</td>\n",
       "    </tr>\n",
       "    <tr>\n",
       "      <th>PCDH9-AS2</th>\n",
       "      <td>-0.058289</td>\n",
       "      <td>PCDH9-AS2</td>\n",
       "      <td>998</td>\n",
       "    </tr>\n",
       "    <tr>\n",
       "      <th>SPDYE2</th>\n",
       "      <td>-0.060538</td>\n",
       "      <td>SPDYE2</td>\n",
       "      <td>999</td>\n",
       "    </tr>\n",
       "    <tr>\n",
       "      <th>XIST</th>\n",
       "      <td>-0.156329</td>\n",
       "      <td>XIST</td>\n",
       "      <td>1000</td>\n",
       "    </tr>\n",
       "  </tbody>\n",
       "</table>\n",
       "<p>1000 rows × 3 columns</p>\n",
       "</div>"
      ],
      "text/plain": [
       "                   Dim5           gene  rank\n",
       "MALAT1         1.443173         MALAT1     1\n",
       "PTPRD          1.205843          PTPRD     2\n",
       "PCDH9          1.183866          PCDH9     3\n",
       "CNTNAP2        1.147521        CNTNAP2     4\n",
       "CADM2          1.142459          CADM2     5\n",
       "...                 ...            ...   ...\n",
       "CTB-57H20.1   -0.047618    CTB-57H20.1   996\n",
       "RP11-160H12.2 -0.057540  RP11-160H12.2   997\n",
       "PCDH9-AS2     -0.058289      PCDH9-AS2   998\n",
       "SPDYE2        -0.060538         SPDYE2   999\n",
       "XIST          -0.156329           XIST  1000\n",
       "\n",
       "[1000 rows x 3 columns]"
      ]
     },
     "execution_count": 18,
     "metadata": {},
     "output_type": "execute_result"
    }
   ],
   "source": [
    "## sort gene (w)\n",
    "w_d = loading_w.loc[[target_dim]].T\n",
    "w_d['gene'] = w_d.index.values.tolist()\n",
    "sorted_w_d = w_d.sort_values(by=target_dim, ascending=False)\n",
    "sorted_w_d['rank'] = list(range(1,w_d.shape[0]+1))\n",
    "sorted_w_d.to_csv(output_dir + 'gene_rank_max_abs_beta.csv', index = False)\n",
    "\n",
    "sorted_w_d"
   ]
  }
 ],
 "metadata": {
  "kernelspec": {
   "display_name": "Python 3 (ipykernel)",
   "language": "python",
   "name": "python3"
  },
  "language_info": {
   "codemirror_mode": {
    "name": "ipython",
    "version": 3
   },
   "file_extension": ".py",
   "mimetype": "text/x-python",
   "name": "python",
   "nbconvert_exporter": "python",
   "pygments_lexer": "ipython3",
   "version": "3.10.8"
  }
 },
 "nbformat": 4,
 "nbformat_minor": 2
}
