{
 "cells": [
  {
   "cell_type": "code",
   "execution_count": 1,
   "metadata": {
    "execution": {
     "iopub.execute_input": "2023-03-26T06:36:03.972339Z",
     "iopub.status.busy": "2023-03-26T06:36:03.971748Z",
     "iopub.status.idle": "2023-03-26T06:36:11.088511Z",
     "shell.execute_reply": "2023-03-26T06:36:11.086952Z"
    }
   },
   "outputs": [],
   "source": [
    "import pyreadr\n",
    "import numpy as onp\n",
    "import pandas as pd\n",
    "import matplotlib\n",
    "import matplotlib.pyplot as plt\n",
    "import jax.numpy as jnp\n",
    "from scipy.stats import linregress\n",
    "\n",
    "import sys\n",
    "import os\n",
    "# sys.path.append(\"../../../models\") # lab server\n",
    "sys.path.append(\"../../../contrastive-regression/models/\") # lab server\n",
    "# from linear_cr import LinearCR\n",
    "from linear_cr_bz import LinearCRBZ"
   ]
  },
  {
   "cell_type": "code",
   "execution_count": 2,
   "metadata": {
    "execution": {
     "iopub.execute_input": "2023-03-26T06:36:11.094966Z",
     "iopub.status.busy": "2023-03-26T06:36:11.094696Z",
     "iopub.status.idle": "2023-03-26T06:36:11.099686Z",
     "shell.execute_reply": "2023-03-26T06:36:11.098830Z"
    }
   },
   "outputs": [],
   "source": [
    "def return_indices_of_a(a, b):\n",
    "  b_set = set(b)\n",
    "  return [i for i, v in enumerate(a) if v in b_set]"
   ]
  },
  {
   "cell_type": "code",
   "execution_count": 3,
   "metadata": {
    "execution": {
     "iopub.execute_input": "2023-03-26T06:36:11.104569Z",
     "iopub.status.busy": "2023-03-26T06:36:11.104269Z",
     "iopub.status.idle": "2023-03-26T06:36:11.295983Z",
     "shell.execute_reply": "2023-03-26T06:36:11.295361Z"
    }
   },
   "outputs": [
    {
     "name": "stdout",
     "output_type": "stream",
     "text": [
      "(1000, 41)\n"
     ]
    }
   ],
   "source": [
    "ct = 'L2or3'\n",
    "df = pyreadr.read_r('../pb/'+ ct + '.rds')[None]\n",
    "hvg = pyreadr.read_r('../hvg1k/'+ ct +'.rds')[None]\n",
    "input1 = df.index.values.tolist()\n",
    "input2 = hvg[None].to_list()\n",
    "match_id = return_indices_of_a(input1,input2)\n",
    "# print(len(match_id))\n",
    "df = df.iloc[match_id]\n",
    "print(df.shape)"
   ]
  },
  {
   "cell_type": "code",
   "execution_count": 4,
   "metadata": {
    "execution": {
     "iopub.execute_input": "2023-03-26T06:36:11.334337Z",
     "iopub.status.busy": "2023-03-26T06:36:11.333976Z",
     "iopub.status.idle": "2023-03-26T06:36:11.347010Z",
     "shell.execute_reply": "2023-03-26T06:36:11.346217Z"
    }
   },
   "outputs": [
    {
     "name": "stdout",
     "output_type": "stream",
     "text": [
      "(20, 5)\n"
     ]
    }
   ],
   "source": [
    "score_type = 'scoreA'\n",
    "output_dir = './' + score_type + '/'\n",
    "if not os.path.exists(output_dir):\n",
    "   os.makedirs(output_dir)\n",
    "\n",
    "score = pyreadr.read_r('../'+ score_type + '_pfc.rds')[None]\n",
    "print(score.shape)"
   ]
  },
  {
   "cell_type": "code",
   "execution_count": 5,
   "metadata": {
    "execution": {
     "iopub.execute_input": "2023-03-26T06:36:11.350323Z",
     "iopub.status.busy": "2023-03-26T06:36:11.350125Z",
     "iopub.status.idle": "2023-03-26T06:36:11.355801Z",
     "shell.execute_reply": "2023-03-26T06:36:11.355230Z"
    }
   },
   "outputs": [
    {
     "name": "stdout",
     "output_type": "stream",
     "text": [
      "<class 'numpy.ndarray'>\n",
      "(10, 1000)\n"
     ]
    }
   ],
   "source": [
    "X = df[score['sample'][score['diagnosis']=='ASD'].to_list()].to_numpy().T\n",
    "print(type(X))\n",
    "print(X.shape)"
   ]
  },
  {
   "cell_type": "code",
   "execution_count": 6,
   "metadata": {
    "execution": {
     "iopub.execute_input": "2023-03-26T06:36:11.359323Z",
     "iopub.status.busy": "2023-03-26T06:36:11.359094Z",
     "iopub.status.idle": "2023-03-26T06:36:11.365111Z",
     "shell.execute_reply": "2023-03-26T06:36:11.364405Z"
    }
   },
   "outputs": [
    {
     "name": "stdout",
     "output_type": "stream",
     "text": [
      "<class 'numpy.ndarray'>\n",
      "(10, 1000)\n"
     ]
    }
   ],
   "source": [
    "# A = df[score['sample'][score['diagnosis']=='ASD'].to_list()]\n",
    "# print(list(A) == score['sample'][score['diagnosis']=='ASD'].to_list())\n",
    "Y = df[score['sample'][score['diagnosis']=='Control'].to_list()].to_numpy().T\n",
    "print(type(Y))\n",
    "print(Y.shape)"
   ]
  },
  {
   "cell_type": "code",
   "execution_count": 7,
   "metadata": {
    "execution": {
     "iopub.execute_input": "2023-03-26T06:36:11.368229Z",
     "iopub.status.busy": "2023-03-26T06:36:11.368012Z",
     "iopub.status.idle": "2023-03-26T06:36:11.372168Z",
     "shell.execute_reply": "2023-03-26T06:36:11.371527Z"
    }
   },
   "outputs": [],
   "source": [
    "R = score['zscore'][score['diagnosis']=='ASD']\n",
    "R = onp.atleast_2d(R).T\n",
    "#print(R)"
   ]
  },
  {
   "cell_type": "code",
   "execution_count": 9,
   "metadata": {
    "execution": {
     "iopub.execute_input": "2023-03-26T06:36:11.375563Z",
     "iopub.status.busy": "2023-03-26T06:36:11.375335Z",
     "iopub.status.idle": "2023-03-26T06:42:16.241530Z",
     "shell.execute_reply": "2023-03-26T06:42:16.240560Z"
    }
   },
   "outputs": [
    {
     "name": "stdout",
     "output_type": "stream",
     "text": [
      "Step: 0               Log marginal lik.: -2216.19\n",
      "Step: 200             Log marginal lik.: 20488.7\n",
      "Step: 400             Log marginal lik.: 40209.67\n",
      "Step: 600             Log marginal lik.: 58594.05\n",
      "Step: 800             Log marginal lik.: 70765.83\n",
      "Step: 1000            Log marginal lik.: 73100.78\n",
      "Step: 1200            Log marginal lik.: 73167.41\n",
      "Step: 1400            Log marginal lik.: 73214.52\n",
      "Step: 1600            Log marginal lik.: 73154.06\n",
      "Step: 1800            Log marginal lik.: 73252.72\n",
      "Step: 2000            Log marginal lik.: 73178.45\n",
      "Step: 2200            Log marginal lik.: 73208.03\n",
      "Step: 2400            Log marginal lik.: 73267.62\n",
      "Step: 2600            Log marginal lik.: 73158.12\n",
      "Step: 2800            Log marginal lik.: 73082.06\n",
      "Step: 3000            Log marginal lik.: 73194.69\n",
      "Step: 3200            Log marginal lik.: 73139.65\n",
      "Step: 3400            Log marginal lik.: 73145.08\n",
      "Step: 3600            Log marginal lik.: 73167.28\n"
     ]
    }
   ],
   "source": [
    "# Instantiate model\n",
    "model = LinearCRBZ()\n",
    "\n",
    "# Fit model\n",
    "d = 8 # dimension reduction\n",
    "model.fit(X, Y, R, d, seed = 10)\n",
    "\n",
    "# Make predictions on training data\n",
    "preds = model.predict(X)"
   ]
  },
  {
   "cell_type": "code",
   "execution_count": 10,
   "metadata": {
    "execution": {
     "iopub.execute_input": "2023-03-26T06:42:16.246246Z",
     "iopub.status.busy": "2023-03-26T06:42:16.246081Z",
     "iopub.status.idle": "2023-03-26T06:42:16.251450Z",
     "shell.execute_reply": "2023-03-26T06:42:16.250824Z"
    }
   },
   "outputs": [
    {
     "name": "stdout",
     "output_type": "stream",
     "text": [
      "0.8932320691934508\n"
     ]
    }
   ],
   "source": [
    "_, _, r2_contrastivereg, _, _ = linregress(R.squeeze(), preds)\n",
    "print(r2_contrastivereg)"
   ]
  },
  {
   "cell_type": "code",
   "execution_count": 11,
   "metadata": {
    "execution": {
     "iopub.execute_input": "2023-03-26T06:42:16.256530Z",
     "iopub.status.busy": "2023-03-26T06:42:16.256334Z",
     "iopub.status.idle": "2023-03-26T06:42:16.592408Z",
     "shell.execute_reply": "2023-03-26T06:42:16.591917Z"
    }
   },
   "outputs": [
    {
     "data": {
      "image/png": "[encoded data removed]",
      "text/plain": [
       "<Figure size 500x500 with 1 Axes>"
      ]
     },
     "metadata": {},
     "output_type": "display_data"
    }
   ],
   "source": [
    "plt.figure(figsize=(5, 5))\n",
    "plt.subplot()\n",
    "plt.scatter(R, preds, c=\"black\")\n",
    "plt.xlabel(r\"True $r$\")\n",
    "plt.ylabel(r\"Predicted $r$\")\n",
    "plt.title(r\"d = 5; top 1k HVGs; $R^2 = \" + str(round(r2_contrastivereg, 2)) + \"$\")\n",
    "\n",
    "plt.tight_layout()\n",
    "plt.show()"
   ]
  },
  {
   "cell_type": "code",
   "execution_count": 14,
   "metadata": {
    "execution": {
     "iopub.execute_input": "2023-03-26T06:42:16.597602Z",
     "iopub.status.busy": "2023-03-26T06:42:16.597432Z",
     "iopub.status.idle": "2023-03-26T06:42:16.602769Z",
     "shell.execute_reply": "2023-03-26T06:42:16.602080Z"
    }
   },
   "outputs": [],
   "source": [
    "# check latent factor t\n",
    "latent_t = onp.asarray(model.t)\n",
    "asd_sample = score['sample'][score['diagnosis']=='ASD'].to_list()\n",
    "dims = [\"Dim%d\" % i for i in range(1,9)]"
   ]
  },
  {
   "cell_type": "code",
   "execution_count": 15,
   "metadata": {
    "execution": {
     "iopub.execute_input": "2023-03-26T06:42:16.605762Z",
     "iopub.status.busy": "2023-03-26T06:42:16.605567Z",
     "iopub.status.idle": "2023-03-26T06:42:16.784637Z",
     "shell.execute_reply": "2023-03-26T06:42:16.784039Z"
    }
   },
   "outputs": [
    {
     "name": "stdout",
     "output_type": "stream",
     "text": [
      "      RP5-857K21.4  MTND1P23  MTND2P28  RP5-857K21.6  MTATP6P1     ACAP3  \\\n",
      "Dim1      0.023808 -0.060882  0.085854     -0.104276  0.149034  0.039738   \n",
      "Dim2     -0.008068 -0.012827 -0.008462     -0.046243  0.124219  0.069611   \n",
      "Dim3      0.002869  0.035223  0.005729      0.025546  0.185139 -0.004319   \n",
      "Dim4     -0.087081 -0.000241  0.019346      0.003606 -0.459906 -0.154044   \n",
      "Dim5      0.032395 -0.046573 -0.004006     -0.057603  0.044529  0.044058   \n",
      "\n",
      "         GABRD      CHD5      ENO1    CLSTN1  ...  MAPK8IP2   TEKT4P2  \\\n",
      "Dim1  0.053198  0.027205  0.042278  0.159238  ...  0.033725  0.033382   \n",
      "Dim2  0.084497  0.069135  0.078725  0.229275  ...  0.046291 -0.036288   \n",
      "Dim3  0.035308  0.031694  0.080156  0.178209  ...  0.041261  0.026813   \n",
      "Dim4 -0.117107 -0.255452 -0.039579 -0.278430  ... -0.092118 -0.004709   \n",
      "Dim5 -0.011482  0.028098 -0.028387  0.026258  ... -0.028933  0.000736   \n",
      "\n",
      "      bP-21201H5.1  ANKRD20A11P  MIR99AHG     ATP5J       APP      SOD1  \\\n",
      "Dim1      0.019167    -0.016495  0.204332  0.042356  0.249799  0.038391   \n",
      "Dim2      0.044772     0.081860  0.231557  0.059869  0.340675  0.066352   \n",
      "Dim3      0.050136     0.002617  0.247757  0.088210  0.215351  0.098282   \n",
      "Dim4     -0.085642    -0.009223 -0.243878  0.049089 -0.352783 -0.026554   \n",
      "Dim5      0.071092     0.009965  0.291930  0.002613  0.241557  0.007555   \n",
      "\n",
      "          PCP4     SUMO3  \n",
      "Dim1  0.018382  0.036370  \n",
      "Dim2  0.088743  0.030997  \n",
      "Dim3  0.026840  0.037503  \n",
      "Dim4  0.020944 -0.089594  \n",
      "Dim5  0.025933 -0.041108  \n",
      "\n",
      "[5 rows x 1000 columns]\n"
     ]
    }
   ],
   "source": [
    "loading_w = pd.DataFrame(model.W, columns = df.index.to_list(), index = dims,dtype = \"float\")\n",
    "pyreadr.write_rds(output_dir + 'W.rds', loading_w, compress=\"gzip\")\n",
    "print(loading_w.head())"
   ]
  },
  {
   "cell_type": "code",
   "execution_count": 16,
   "metadata": {
    "execution": {
     "iopub.execute_input": "2023-03-26T06:42:16.788654Z",
     "iopub.status.busy": "2023-03-26T06:42:16.788501Z",
     "iopub.status.idle": "2023-03-26T06:42:16.804809Z",
     "shell.execute_reply": "2023-03-26T06:42:16.804115Z"
    }
   },
   "outputs": [
    {
     "name": "stdout",
     "output_type": "stream",
     "text": [
      "              Dim1      Dim2      Dim3      Dim4      Dim5      Dim6  \\\n",
      "5144_PFC -0.489170  0.150458  0.850076 -0.404951  1.012822  0.643878   \n",
      "5278_PFC -0.038157 -0.223055  0.799881  0.594321  0.147289 -0.430833   \n",
      "5294_BA9 -0.264539 -0.020684 -0.089406 -0.002940  0.267508  0.068198   \n",
      "5403_PFC  0.879480  0.097651  0.107662 -0.369426  0.581738 -0.325037   \n",
      "5419_PFC -0.642341  0.967048  0.166970  0.708298 -0.011974 -0.580594   \n",
      "\n",
      "              Dim7      Dim8  \n",
      "5144_PFC  0.205108 -0.315745  \n",
      "5278_PFC  0.125301  0.044253  \n",
      "5294_BA9 -0.060507 -0.059063  \n",
      "5403_PFC  0.543243  0.605976  \n",
      "5419_PFC  0.922552 -0.465222  \n"
     ]
    }
   ],
   "source": [
    "latent_t = pd.DataFrame(model.t, columns = dims, index = asd_sample, dtype=\"float\")\n",
    "pyreadr.write_rds(output_dir + 't.rds', latent_t, compress=\"gzip\")\n",
    "print(latent_t.head())"
   ]
  },
  {
   "cell_type": "code",
   "execution_count": 17,
   "metadata": {
    "execution": {
     "iopub.execute_input": "2023-03-26T06:42:16.808729Z",
     "iopub.status.busy": "2023-03-26T06:42:16.808476Z",
     "iopub.status.idle": "2023-03-26T06:42:16.823439Z",
     "shell.execute_reply": "2023-03-26T06:42:16.822802Z"
    }
   },
   "outputs": [],
   "source": [
    "pyreadr.write_rds(output_dir + 'beta.rds', pd.DataFrame(data=model.beta), compress=\"gzip\")"
   ]
  },
  {
   "cell_type": "code",
   "execution_count": 18,
   "metadata": {
    "execution": {
     "iopub.execute_input": "2023-03-26T06:42:16.827096Z",
     "iopub.status.busy": "2023-03-26T06:42:16.826943Z",
     "iopub.status.idle": "2023-03-26T06:42:16.993981Z",
     "shell.execute_reply": "2023-03-26T06:42:16.993525Z"
    }
   },
   "outputs": [
    {
     "name": "stdout",
     "output_type": "stream",
     "text": [
      "<bound method NDFrame.head of       RP5-857K21.4  MTND1P23  MTND2P28  RP5-857K21.6  MTATP6P1     ACAP3  \\\n",
      "Dim1     -0.037910  0.041754 -0.009299      0.085125 -0.179107 -0.003021   \n",
      "Dim2     -0.048880 -0.031582  0.000132     -0.024325 -0.171854 -0.146309   \n",
      "Dim3     -0.013287  0.036452 -0.006965      0.073485 -0.021303 -0.015805   \n",
      "Dim4     -0.044452 -0.113255 -0.005686     -0.153997 -0.116202 -0.078431   \n",
      "Dim5      0.100510 -0.042455  0.008772     -0.026527  0.281305  0.131859   \n",
      "Dim6     -0.007162 -0.034458 -0.004527     -0.056833 -0.067506  0.012824   \n",
      "Dim7     -0.007553 -0.020172  0.000943     -0.022395 -0.035636 -0.022273   \n",
      "Dim8      0.017471 -0.057954  0.003061     -0.102513  0.026976 -0.012683   \n",
      "\n",
      "         GABRD      CHD5      ENO1    CLSTN1  ...  MAPK8IP2   TEKT4P2  \\\n",
      "Dim1  0.036058 -0.023141  0.027935  0.103129  ... -0.004801  0.003559   \n",
      "Dim2 -0.068957 -0.194022 -0.037605 -0.163373  ... -0.042712  0.027390   \n",
      "Dim3 -0.002721 -0.039434 -0.012956 -0.028390  ... -0.013797 -0.044300   \n",
      "Dim4 -0.028691 -0.128686  0.003382 -0.107688  ... -0.023867  0.018712   \n",
      "Dim5  0.032783  0.199454  0.011641  0.127505  ...  0.035016  0.032417   \n",
      "Dim6  0.008000 -0.010883 -0.030276 -0.064710  ... -0.004721 -0.079051   \n",
      "Dim7  0.040307 -0.001073  0.053883  0.181274  ...  0.014573  0.055860   \n",
      "Dim8  0.028124 -0.010103  0.054130  0.095773  ...  0.012204  0.112148   \n",
      "\n",
      "      bP-21201H5.1  ANKRD20A11P  MIR99AHG     ATP5J       APP      SOD1  \\\n",
      "Dim1      0.100700     0.013302  0.165600  0.046228  0.147024  0.030024   \n",
      "Dim2     -0.024739    -0.015644 -0.179691 -0.054193 -0.246796 -0.104411   \n",
      "Dim3     -0.007366    -0.021094 -0.258077 -0.010710 -0.156967  0.004301   \n",
      "Dim4     -0.025699    -0.004682 -0.212173  0.006163 -0.189226 -0.002498   \n",
      "Dim5     -0.008338     0.035889  0.142292  0.002734  0.225716  0.030423   \n",
      "Dim6     -0.047036    -0.021155 -0.127547 -0.039493 -0.126378 -0.039585   \n",
      "Dim7      0.039805     0.003786  0.261570  0.050981  0.298020  0.066385   \n",
      "Dim8      0.046629    -0.038732  0.257950  0.041637  0.235131  0.036115   \n",
      "\n",
      "          PCP4     SUMO3  \n",
      "Dim1  0.078533  0.007468  \n",
      "Dim2 -0.060995 -0.015144  \n",
      "Dim3  0.004907 -0.008873  \n",
      "Dim4 -0.017048 -0.016555  \n",
      "Dim5 -0.005519  0.034788  \n",
      "Dim6 -0.013115 -0.003220  \n",
      "Dim7  0.043793  0.020240  \n",
      "Dim8  0.022458  0.040167  \n",
      "\n",
      "[8 rows x 1000 columns]>\n"
     ]
    }
   ],
   "source": [
    "auxiliary_s = pd.DataFrame(model.S, columns = df.index.to_list(), index = dims, dtype=\"float\")\n",
    "print(auxiliary_s.head)\n",
    "pyreadr.write_rds(output_dir + 'S.rds', auxiliary_s, compress=\"gzip\")"
   ]
  },
  {
   "cell_type": "code",
   "execution_count": 19,
   "metadata": {
    "execution": {
     "iopub.execute_input": "2023-03-26T06:42:16.998093Z",
     "iopub.status.busy": "2023-03-26T06:42:16.997872Z",
     "iopub.status.idle": "2023-03-26T06:42:17.014243Z",
     "shell.execute_reply": "2023-03-26T06:42:17.013585Z"
    }
   },
   "outputs": [
    {
     "name": "stdout",
     "output_type": "stream",
     "text": [
      "[-0.2825892   1.6514705   0.26765734 -0.75194407  1.269176   -1.2952262\n",
      " -1.5379503   1.2674844 ]\n",
      "Dimension with largest absolute value of beta: Dim2\n"
     ]
    }
   ],
   "source": [
    "## sort by absolute value of beta\n",
    "beta = onp.array(model.beta.T.flatten())\n",
    "print(beta)\n",
    "indices = onp.argsort(abs(beta))\n",
    "max_abs_beta_index = indices[-1] # start from 0\n",
    "target_dim = 'Dim' + str(max_abs_beta_index + 1)\n",
    "print('Dimension with largest absolute value of beta: ' + target_dim)"
   ]
  },
  {
   "cell_type": "code",
   "execution_count": 20,
   "metadata": {
    "execution": {
     "iopub.execute_input": "2023-03-26T06:42:17.018244Z",
     "iopub.status.busy": "2023-03-26T06:42:17.018093Z",
     "iopub.status.idle": "2023-03-26T06:42:17.050983Z",
     "shell.execute_reply": "2023-03-26T06:42:17.050364Z"
    }
   },
   "outputs": [
    {
     "data": {
      "text/html": [
       "<div>\n",
       "<style scoped>\n",
       "    .dataframe tbody tr th:only-of-type {\n",
       "        vertical-align: middle;\n",
       "    }\n",
       "\n",
       "    .dataframe tbody tr th {\n",
       "        vertical-align: top;\n",
       "    }\n",
       "\n",
       "    .dataframe thead th {\n",
       "        text-align: right;\n",
       "    }\n",
       "</style>\n",
       "<table border=\"1\" class=\"dataframe\">\n",
       "  <thead>\n",
       "    <tr style=\"text-align: right;\">\n",
       "      <th></th>\n",
       "      <th>Dim2</th>\n",
       "      <th>gene</th>\n",
       "      <th>rank</th>\n",
       "    </tr>\n",
       "  </thead>\n",
       "  <tbody>\n",
       "    <tr>\n",
       "      <th>MALAT1</th>\n",
       "      <td>1.580847</td>\n",
       "      <td>MALAT1</td>\n",
       "      <td>1</td>\n",
       "    </tr>\n",
       "    <tr>\n",
       "      <th>RASGEF1B</th>\n",
       "      <td>1.007793</td>\n",
       "      <td>RASGEF1B</td>\n",
       "      <td>2</td>\n",
       "    </tr>\n",
       "    <tr>\n",
       "      <th>LINC00486</th>\n",
       "      <td>0.927019</td>\n",
       "      <td>LINC00486</td>\n",
       "      <td>3</td>\n",
       "    </tr>\n",
       "    <tr>\n",
       "      <th>CADM2</th>\n",
       "      <td>0.819619</td>\n",
       "      <td>CADM2</td>\n",
       "      <td>4</td>\n",
       "    </tr>\n",
       "    <tr>\n",
       "      <th>PCDH9</th>\n",
       "      <td>0.815199</td>\n",
       "      <td>PCDH9</td>\n",
       "      <td>5</td>\n",
       "    </tr>\n",
       "    <tr>\n",
       "      <th>...</th>\n",
       "      <td>...</td>\n",
       "      <td>...</td>\n",
       "      <td>...</td>\n",
       "    </tr>\n",
       "    <tr>\n",
       "      <th>CH17-472G23.2</th>\n",
       "      <td>-0.054079</td>\n",
       "      <td>CH17-472G23.2</td>\n",
       "      <td>996</td>\n",
       "    </tr>\n",
       "    <tr>\n",
       "      <th>DCC</th>\n",
       "      <td>-0.058617</td>\n",
       "      <td>DCC</td>\n",
       "      <td>997</td>\n",
       "    </tr>\n",
       "    <tr>\n",
       "      <th>RP11-449D8.5</th>\n",
       "      <td>-0.070198</td>\n",
       "      <td>RP11-449D8.5</td>\n",
       "      <td>998</td>\n",
       "    </tr>\n",
       "    <tr>\n",
       "      <th>RP11-236F9.2</th>\n",
       "      <td>-0.086003</td>\n",
       "      <td>RP11-236F9.2</td>\n",
       "      <td>999</td>\n",
       "    </tr>\n",
       "    <tr>\n",
       "      <th>LINC01090</th>\n",
       "      <td>-0.097740</td>\n",
       "      <td>LINC01090</td>\n",
       "      <td>1000</td>\n",
       "    </tr>\n",
       "  </tbody>\n",
       "</table>\n",
       "<p>1000 rows × 3 columns</p>\n",
       "</div>"
      ],
      "text/plain": [
       "                   Dim2           gene  rank\n",
       "MALAT1         1.580847         MALAT1     1\n",
       "RASGEF1B       1.007793       RASGEF1B     2\n",
       "LINC00486      0.927019      LINC00486     3\n",
       "CADM2          0.819619          CADM2     4\n",
       "PCDH9          0.815199          PCDH9     5\n",
       "...                 ...            ...   ...\n",
       "CH17-472G23.2 -0.054079  CH17-472G23.2   996\n",
       "DCC           -0.058617            DCC   997\n",
       "RP11-449D8.5  -0.070198   RP11-449D8.5   998\n",
       "RP11-236F9.2  -0.086003   RP11-236F9.2   999\n",
       "LINC01090     -0.097740      LINC01090  1000\n",
       "\n",
       "[1000 rows x 3 columns]"
      ]
     },
     "execution_count": 20,
     "metadata": {},
     "output_type": "execute_result"
    }
   ],
   "source": [
    "## sort gene (w)\n",
    "w_d = loading_w.loc[[target_dim]].T\n",
    "w_d['gene'] = w_d.index.values.tolist()\n",
    "sorted_w_d = w_d.sort_values(by=target_dim, ascending=False)\n",
    "sorted_w_d['rank'] = list(range(1,w_d.shape[0]+1))\n",
    "sorted_w_d.to_csv(output_dir + 'gene_rank_max_abs_beta.csv', index = False)\n",
    "\n",
    "sorted_w_d"
   ]
  }
 ],
 "metadata": {
  "kernelspec": {
   "display_name": "Python 3 (ipykernel)",
   "language": "python",
   "name": "python3"
  },
  "language_info": {
   "codemirror_mode": {
    "name": "ipython",
    "version": 3
   },
   "file_extension": ".py",
   "mimetype": "text/x-python",
   "name": "python",
   "nbconvert_exporter": "python",
   "pygments_lexer": "ipython3",
   "version": "3.10.8"
  }
 },
 "nbformat": 4,
 "nbformat_minor": 2
}
