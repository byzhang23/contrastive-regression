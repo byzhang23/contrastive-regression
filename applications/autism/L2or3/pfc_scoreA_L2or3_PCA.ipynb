{
 "cells": [
  {
   "cell_type": "code",
   "execution_count": 1,
   "metadata": {
    "execution": {
     "iopub.execute_input": "2023-03-26T06:36:03.972339Z",
     "iopub.status.busy": "2023-03-26T06:36:03.971748Z",
     "iopub.status.idle": "2023-03-26T06:36:11.088511Z",
     "shell.execute_reply": "2023-03-26T06:36:11.086952Z"
    }
   },
   "outputs": [],
   "source": [
    "import pyreadr\n",
    "import numpy as onp\n",
    "import pandas as pd\n",
    "import matplotlib\n",
    "import matplotlib.pyplot as plt\n",
    "import jax.numpy as jnp\n",
    "from scipy.stats import linregress\n",
    "from sklearn.linear_model import LinearRegression\n",
    "from sklearn.decomposition import PCA\n",
    "import time\n",
    "\n",
    "import sys\n",
    "import os\n",
    "# sys.path.append(\"../../../models\") # lab server\n",
    "sys.path.append(\"../../../contrastive-regression/models/\") # lab server\n",
    "# from linear_cr import LinearCR\n",
    "from linear_cr_new import LinearContrastiveRegression"
   ]
  },
  {
   "cell_type": "code",
   "execution_count": 2,
   "metadata": {
    "execution": {
     "iopub.execute_input": "2023-03-26T06:36:11.094966Z",
     "iopub.status.busy": "2023-03-26T06:36:11.094696Z",
     "iopub.status.idle": "2023-03-26T06:36:11.099686Z",
     "shell.execute_reply": "2023-03-26T06:36:11.098830Z"
    }
   },
   "outputs": [],
   "source": [
    "def return_indices_of_a(a, b):\n",
    "  b_set = set(b)\n",
    "  return [i for i, v in enumerate(a) if v in b_set]"
   ]
  },
  {
   "cell_type": "code",
   "execution_count": 3,
   "metadata": {
    "execution": {
     "iopub.execute_input": "2023-03-26T06:36:11.104569Z",
     "iopub.status.busy": "2023-03-26T06:36:11.104269Z",
     "iopub.status.idle": "2023-03-26T06:36:11.295983Z",
     "shell.execute_reply": "2023-03-26T06:36:11.295361Z"
    }
   },
   "outputs": [
    {
     "name": "stdout",
     "output_type": "stream",
     "text": [
      "(1000, 41)\n"
     ]
    }
   ],
   "source": [
    "ct = 'L2or3'\n",
    "df = pyreadr.read_r('../pb/'+ ct + '.rds')[None]\n",
    "hvg = pyreadr.read_r('../hvg1k/'+ ct +'.rds')[None]\n",
    "input1 = df.index.values.tolist()\n",
    "input2 = hvg[None].to_list()\n",
    "match_id = return_indices_of_a(input1,input2)\n",
    "# print(len(match_id))\n",
    "df = df.iloc[match_id]\n",
    "print(df.shape)"
   ]
  },
  {
   "cell_type": "code",
   "execution_count": 4,
   "metadata": {
    "execution": {
     "iopub.execute_input": "2023-03-26T06:36:11.334337Z",
     "iopub.status.busy": "2023-03-26T06:36:11.333976Z",
     "iopub.status.idle": "2023-03-26T06:36:11.347010Z",
     "shell.execute_reply": "2023-03-26T06:36:11.346217Z"
    }
   },
   "outputs": [
    {
     "name": "stdout",
     "output_type": "stream",
     "text": [
      "(20, 5)\n"
     ]
    }
   ],
   "source": [
    "score_type = 'scoreA'\n",
    "output_dir = './' + score_type + '/'\n",
    "if not os.path.exists(output_dir):\n",
    "   os.makedirs(output_dir)\n",
    "\n",
    "score = pyreadr.read_r('../'+ score_type + '_pfc.rds')[None]\n",
    "print(score.shape)"
   ]
  },
  {
   "cell_type": "code",
   "execution_count": 5,
   "metadata": {
    "execution": {
     "iopub.execute_input": "2023-03-26T06:36:11.350323Z",
     "iopub.status.busy": "2023-03-26T06:36:11.350125Z",
     "iopub.status.idle": "2023-03-26T06:36:11.355801Z",
     "shell.execute_reply": "2023-03-26T06:36:11.355230Z"
    }
   },
   "outputs": [
    {
     "name": "stdout",
     "output_type": "stream",
     "text": [
      "<class 'numpy.ndarray'>\n",
      "(10, 1000)\n"
     ]
    }
   ],
   "source": [
    "X = df[score['sample'][score['diagnosis']=='ASD'].to_list()].to_numpy().T\n",
    "print(type(X))\n",
    "print(X.shape)"
   ]
  },
  {
   "cell_type": "code",
   "execution_count": 6,
   "metadata": {
    "execution": {
     "iopub.execute_input": "2023-03-26T06:36:11.359323Z",
     "iopub.status.busy": "2023-03-26T06:36:11.359094Z",
     "iopub.status.idle": "2023-03-26T06:36:11.365111Z",
     "shell.execute_reply": "2023-03-26T06:36:11.364405Z"
    }
   },
   "outputs": [
    {
     "name": "stdout",
     "output_type": "stream",
     "text": [
      "<class 'numpy.ndarray'>\n",
      "(10, 1000)\n"
     ]
    }
   ],
   "source": [
    "# A = df[score['sample'][score['diagnosis']=='ASD'].to_list()]\n",
    "# print(list(A) == score['sample'][score['diagnosis']=='ASD'].to_list())\n",
    "Y = df[score['sample'][score['diagnosis']=='Control'].to_list()].to_numpy().T\n",
    "print(type(Y))\n",
    "print(Y.shape)"
   ]
  },
  {
   "cell_type": "code",
   "execution_count": 7,
   "metadata": {
    "execution": {
     "iopub.execute_input": "2023-03-26T06:36:11.368229Z",
     "iopub.status.busy": "2023-03-26T06:36:11.368012Z",
     "iopub.status.idle": "2023-03-26T06:36:11.372168Z",
     "shell.execute_reply": "2023-03-26T06:36:11.371527Z"
    }
   },
   "outputs": [],
   "source": [
    "R = score['zscore'][score['diagnosis']=='ASD']\n",
    "R = onp.atleast_2d(R).T\n",
    "#print(R)"
   ]
  },
  {
   "cell_type": "code",
   "execution_count": 8,
   "metadata": {},
   "outputs": [],
   "source": [
    "X_mean, Y_mean, R_mean = onp.mean(X, axis=0), onp.mean(Y, axis=0), onp.mean(R, axis=0)\n",
    "X = (X - X_mean) / onp.std(X, axis=0)\n",
    "Y = (Y - Y_mean) / onp.std(Y, axis=0)\n",
    "R = (R - R_mean) / onp.std(R, axis=0)"
   ]
  },
  {
   "cell_type": "code",
   "execution_count": 9,
   "metadata": {
    "execution": {
     "iopub.execute_input": "2023-03-26T06:36:11.375563Z",
     "iopub.status.busy": "2023-03-26T06:36:11.375335Z",
     "iopub.status.idle": "2023-03-26T06:42:16.241530Z",
     "shell.execute_reply": "2023-03-26T06:42:16.240560Z"
    }
   },
   "outputs": [],
   "source": [
    "# Fit PCA model\n",
    "d = 8 # dimension reduction\n",
    "\n",
    "linreg = LinearRegression()\n",
    "start = time.time()\n",
    "pca = PCA(n_components=d)\n",
    "X_reduced = pca.fit_transform(X)\n",
    "linreg.fit(X_reduced, R)\n",
    "end = time.time()\n",
    "preds_linreg = linreg.predict(X_reduced)\n"
   ]
  },
  {
   "cell_type": "code",
   "execution_count": 10,
   "metadata": {},
   "outputs": [
    {
     "data": {
      "text/plain": [
       "0.0034482479095458984"
      ]
     },
     "execution_count": 10,
     "metadata": {},
     "output_type": "execute_result"
    }
   ],
   "source": [
    "# runtime of PCA\n",
    "runtime = end - start\n",
    "runtime"
   ]
  },
  {
   "cell_type": "code",
   "execution_count": 11,
   "metadata": {
    "execution": {
     "iopub.execute_input": "2023-03-26T06:42:16.246246Z",
     "iopub.status.busy": "2023-03-26T06:42:16.246081Z",
     "iopub.status.idle": "2023-03-26T06:42:16.251450Z",
     "shell.execute_reply": "2023-03-26T06:42:16.250824Z"
    }
   },
   "outputs": [
    {
     "name": "stdout",
     "output_type": "stream",
     "text": [
      "0.999058608278911\n"
     ]
    }
   ],
   "source": [
    "_, _, r2_linreg, _, _ = linregress(R.squeeze(), preds_linreg.squeeze())\n",
    "print(r2_linreg)"
   ]
  },
  {
   "cell_type": "code",
   "execution_count": 12,
   "metadata": {},
   "outputs": [
    {
     "data": {
      "text/plain": [
       "(8, 1000)"
      ]
     },
     "execution_count": 12,
     "metadata": {},
     "output_type": "execute_result"
    }
   ],
   "source": [
    "components = pca.components_\n",
    "components.shape"
   ]
  },
  {
   "cell_type": "code",
   "execution_count": 13,
   "metadata": {},
   "outputs": [],
   "source": [
    "# pc1 = components[0]\n",
    "pcs = [\"PC%d\" % i for i in range(1,9)]\n",
    "loading_pc = pd.DataFrame(components, columns = df.index.to_list(), index = pcs,dtype = \"float\")"
   ]
  },
  {
   "cell_type": "code",
   "execution_count": 14,
   "metadata": {},
   "outputs": [],
   "source": [
    "pyreadr.write_rds(output_dir + 'PCA.rds', loading_pc, compress=\"gzip\")"
   ]
  }
 ],
 "metadata": {
  "kernelspec": {
   "display_name": "Python 3 (ipykernel)",
   "language": "python",
   "name": "python3"
  },
  "language_info": {
   "codemirror_mode": {
    "name": "ipython",
    "version": 3
   },
   "file_extension": ".py",
   "mimetype": "text/x-python",
   "name": "python",
   "nbconvert_exporter": "python",
   "pygments_lexer": "ipython3",
   "version": "3.10.8"
  }
 },
 "nbformat": 4,
 "nbformat_minor": 2
}
